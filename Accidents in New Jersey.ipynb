{
 "cells": [
  {
   "cell_type": "markdown",
   "id": "4ef422f9",
   "metadata": {},
   "source": [
    "# Accidents in New Jersey"
   ]
  },
  {
   "cell_type": "code",
   "execution_count": 1,
   "id": "5ac43321",
   "metadata": {},
   "outputs": [],
   "source": [
    "import numpy as np\n",
    "import pandas as pd\n",
    "import matplotlib.pyplot as plt\n",
    "import seaborn as sns\n",
    "\n",
    "%matplotlib inline"
   ]
  },
  {
   "cell_type": "code",
   "execution_count": 2,
   "id": "9ece2f78",
   "metadata": {},
   "outputs": [
    {
     "name": "stderr",
     "output_type": "stream",
     "text": [
      "D:\\A\\lib\\site-packages\\IPython\\core\\interactiveshell.py:3437: DtypeWarning: Columns (6) have mixed types.Specify dtype option on import or set low_memory=False.\n",
      "  exec(code_obj, self.user_global_ns, self.user_ns)\n"
     ]
    }
   ],
   "source": [
    "df = pd.read_csv('accidents.csv',\n",
    "                 encoding = \"ISO-8859-1\")"
   ]
  },
  {
   "cell_type": "markdown",
   "id": "0ad26bb5",
   "metadata": {},
   "source": [
    "- About warning:\n",
    "\n",
    "\n",
    "    - This dtype error happens when a column has both strings and integer values.\n",
    "    \n",
    "    \n",
    "    - ignore it first, I will fix it later."
   ]
  },
  {
   "cell_type": "markdown",
   "id": "09914254",
   "metadata": {},
   "source": [
    "## Data Preparation and Cleaning"
   ]
  },
  {
   "cell_type": "code",
   "execution_count": 3,
   "id": "b32ff7a5",
   "metadata": {},
   "outputs": [
    {
     "data": {
      "text/plain": [
       "Index(['case code', ' County Name', ' Municipality Name', ' Crash Date',\n",
       "       ' Crash Day Of Week', ' Crash Time', ' Police Dept Code',\n",
       "       ' Police Department', ' Police Station', ' Total Killed',\n",
       "       ' Total Injured', ' Pedestrians Killed', ' Pedestrians Injured',\n",
       "       ' Severity', ' Intersection', ' Alcohol Involved', ' HazMat Involved',\n",
       "       ' Crash Type Code', ' Total Vehicles Involved', ' Crash Location',\n",
       "       ' Location Direction', ' Route', ' Route Suffix',\n",
       "       ' SRI (Std Rte Identifier)', ' MilePost  ', ' Road System',\n",
       "       ' Road Character', ' Road Surface Type', ' Surface Condition',\n",
       "       ' Light Condition', ' Environmental Condition', ' Road Divided By',\n",
       "       ' Temporary Traffic Control Zone', ' Distance To Cross Street',\n",
       "       ' Unit Of Measurement', ' Directn From Cross Street',\n",
       "       ' Cross Street Name', ' Is Ramp', ' Ramp To/From Route Name',\n",
       "       ' Ramp To/From Route Direction', ' Posted Speed',\n",
       "       ' Posted Speed Cross Street', ' Latitude', ' Longitude',\n",
       "       ' Cell Phone In Use Flag', ' Other Property Damage',\n",
       "       ' Reporting Badge No.'],\n",
       "      dtype='object')"
      ]
     },
     "execution_count": 3,
     "metadata": {},
     "output_type": "execute_result"
    }
   ],
   "source": [
    "df.columns"
   ]
  },
  {
   "cell_type": "markdown",
   "id": "1371ccd9",
   "metadata": {},
   "source": [
    "> Bummer. There's our first problem. Notice that there's a leading space in every column header. We should take it out."
   ]
  },
  {
   "cell_type": "code",
   "execution_count": 4,
   "id": "7eb8993d",
   "metadata": {},
   "outputs": [],
   "source": [
    "# address empty spaces on column headers\n",
    "df.rename(columns = lambda x: x.strip(),\n",
    "          inplace=True)"
   ]
  },
  {
   "cell_type": "code",
   "execution_count": 5,
   "id": "070650ef",
   "metadata": {},
   "outputs": [
    {
     "data": {
      "text/html": [
       "<div>\n",
       "<style scoped>\n",
       "    .dataframe tbody tr th:only-of-type {\n",
       "        vertical-align: middle;\n",
       "    }\n",
       "\n",
       "    .dataframe tbody tr th {\n",
       "        vertical-align: top;\n",
       "    }\n",
       "\n",
       "    .dataframe thead th {\n",
       "        text-align: right;\n",
       "    }\n",
       "</style>\n",
       "<table border=\"1\" class=\"dataframe\">\n",
       "  <thead>\n",
       "    <tr style=\"text-align: right;\">\n",
       "      <th></th>\n",
       "      <th>Total Killed</th>\n",
       "      <th>Total Injured</th>\n",
       "      <th>Pedestrians Killed</th>\n",
       "      <th>Pedestrians Injured</th>\n",
       "      <th>Total Vehicles Involved</th>\n",
       "      <th>Road System</th>\n",
       "      <th>Posted Speed</th>\n",
       "    </tr>\n",
       "  </thead>\n",
       "  <tbody>\n",
       "    <tr>\n",
       "      <th>count</th>\n",
       "      <td>1.048575e+06</td>\n",
       "      <td>1.048575e+06</td>\n",
       "      <td>1.048575e+06</td>\n",
       "      <td>1.048575e+06</td>\n",
       "      <td>1.048575e+06</td>\n",
       "      <td>1.048575e+06</td>\n",
       "      <td>1.048575e+06</td>\n",
       "    </tr>\n",
       "    <tr>\n",
       "      <th>mean</th>\n",
       "      <td>1.965525e-03</td>\n",
       "      <td>3.119510e-01</td>\n",
       "      <td>4.854207e-04</td>\n",
       "      <td>1.735117e-02</td>\n",
       "      <td>1.875997e+00</td>\n",
       "      <td>5.199488e+00</td>\n",
       "      <td>3.120711e+01</td>\n",
       "    </tr>\n",
       "    <tr>\n",
       "      <th>std</th>\n",
       "      <td>4.694568e-02</td>\n",
       "      <td>7.015340e-01</td>\n",
       "      <td>2.211335e-02</td>\n",
       "      <td>1.344480e-01</td>\n",
       "      <td>5.416507e-01</td>\n",
       "      <td>2.491480e+00</td>\n",
       "      <td>1.790289e+01</td>\n",
       "    </tr>\n",
       "    <tr>\n",
       "      <th>min</th>\n",
       "      <td>0.000000e+00</td>\n",
       "      <td>0.000000e+00</td>\n",
       "      <td>0.000000e+00</td>\n",
       "      <td>0.000000e+00</td>\n",
       "      <td>0.000000e+00</td>\n",
       "      <td>0.000000e+00</td>\n",
       "      <td>0.000000e+00</td>\n",
       "    </tr>\n",
       "    <tr>\n",
       "      <th>25%</th>\n",
       "      <td>0.000000e+00</td>\n",
       "      <td>0.000000e+00</td>\n",
       "      <td>0.000000e+00</td>\n",
       "      <td>0.000000e+00</td>\n",
       "      <td>2.000000e+00</td>\n",
       "      <td>2.000000e+00</td>\n",
       "      <td>2.500000e+01</td>\n",
       "    </tr>\n",
       "    <tr>\n",
       "      <th>50%</th>\n",
       "      <td>0.000000e+00</td>\n",
       "      <td>0.000000e+00</td>\n",
       "      <td>0.000000e+00</td>\n",
       "      <td>0.000000e+00</td>\n",
       "      <td>2.000000e+00</td>\n",
       "      <td>5.000000e+00</td>\n",
       "      <td>2.500000e+01</td>\n",
       "    </tr>\n",
       "    <tr>\n",
       "      <th>75%</th>\n",
       "      <td>0.000000e+00</td>\n",
       "      <td>0.000000e+00</td>\n",
       "      <td>0.000000e+00</td>\n",
       "      <td>0.000000e+00</td>\n",
       "      <td>2.000000e+00</td>\n",
       "      <td>7.000000e+00</td>\n",
       "      <td>4.500000e+01</td>\n",
       "    </tr>\n",
       "    <tr>\n",
       "      <th>max</th>\n",
       "      <td>5.000000e+00</td>\n",
       "      <td>4.200000e+01</td>\n",
       "      <td>2.000000e+00</td>\n",
       "      <td>1.000000e+01</td>\n",
       "      <td>2.000000e+01</td>\n",
       "      <td>1.000000e+01</td>\n",
       "      <td>9.900000e+01</td>\n",
       "    </tr>\n",
       "  </tbody>\n",
       "</table>\n",
       "</div>"
      ],
      "text/plain": [
       "       Total Killed  Total Injured  Pedestrians Killed  Pedestrians Injured  \\\n",
       "count  1.048575e+06   1.048575e+06        1.048575e+06         1.048575e+06   \n",
       "mean   1.965525e-03   3.119510e-01        4.854207e-04         1.735117e-02   \n",
       "std    4.694568e-02   7.015340e-01        2.211335e-02         1.344480e-01   \n",
       "min    0.000000e+00   0.000000e+00        0.000000e+00         0.000000e+00   \n",
       "25%    0.000000e+00   0.000000e+00        0.000000e+00         0.000000e+00   \n",
       "50%    0.000000e+00   0.000000e+00        0.000000e+00         0.000000e+00   \n",
       "75%    0.000000e+00   0.000000e+00        0.000000e+00         0.000000e+00   \n",
       "max    5.000000e+00   4.200000e+01        2.000000e+00         1.000000e+01   \n",
       "\n",
       "       Total Vehicles Involved   Road System  Posted Speed  \n",
       "count             1.048575e+06  1.048575e+06  1.048575e+06  \n",
       "mean              1.875997e+00  5.199488e+00  3.120711e+01  \n",
       "std               5.416507e-01  2.491480e+00  1.790289e+01  \n",
       "min               0.000000e+00  0.000000e+00  0.000000e+00  \n",
       "25%               2.000000e+00  2.000000e+00  2.500000e+01  \n",
       "50%               2.000000e+00  5.000000e+00  2.500000e+01  \n",
       "75%               2.000000e+00  7.000000e+00  4.500000e+01  \n",
       "max               2.000000e+01  1.000000e+01  9.900000e+01  "
      ]
     },
     "execution_count": 5,
     "metadata": {},
     "output_type": "execute_result"
    }
   ],
   "source": [
    "df.describe()"
   ]
  },
  {
   "cell_type": "markdown",
   "id": "a703d7cc",
   "metadata": {},
   "source": [
    "### 1. County Name + Crash Day of Week"
   ]
  },
  {
   "cell_type": "code",
   "execution_count": 6,
   "id": "63308564",
   "metadata": {},
   "outputs": [
    {
     "data": {
      "text/plain": [
       "count          1048575\n",
       "unique              21\n",
       "top       MIDDLESEX   \n",
       "freq            115760\n",
       "Name: County Name, dtype: object"
      ]
     },
     "execution_count": 6,
     "metadata": {},
     "output_type": "execute_result"
    }
   ],
   "source": [
    "df['County Name'].describe()"
   ]
  },
  {
   "cell_type": "markdown",
   "id": "89c4ccd4",
   "metadata": {},
   "source": [
    "#### Analysis:\n",
    "\n",
    "- There are 21 unique values in the County Name column (for the 21 counties in New Jersey).\n",
    "\n",
    "- We can see that the **top county with the most rows** is **Middlesex** County with 176,402 crashes???????.\n",
    "\n",
    "> Let's find out the names of the counties in New Jersey."
   ]
  },
  {
   "cell_type": "code",
   "execution_count": 7,
   "id": "29f73c19",
   "metadata": {},
   "outputs": [
    {
     "data": {
      "text/plain": [
       "array(['ATLANTIC    ', 'BERGEN      ', 'BURLINGTON  ', 'CAMDEN      ',\n",
       "       'CAPE MAY    ', 'CUMBERLAND  ', 'ESSEX       ', 'GLOUCESTER  ',\n",
       "       'HUDSON      ', 'HUNTERDON   ', 'MERCER      ', 'MIDDLESEX   ',\n",
       "       'MONMOUTH    ', 'MORRIS      ', 'OCEAN       ', 'PASSAIC     ',\n",
       "       'SALEM       ', 'SOMERSET    ', 'SUSSEX      ', 'UNION       ',\n",
       "       'WARREN      '], dtype=object)"
      ]
     },
     "execution_count": 7,
     "metadata": {},
     "output_type": "execute_result"
    }
   ],
   "source": [
    "df['County Name'].unique()"
   ]
  },
  {
   "cell_type": "markdown",
   "id": "1d27ecd9",
   "metadata": {},
   "source": [
    "- Looks like we're going to need to strip out the spaces out of the these county names.\n",
    "\n",
    "> This time we'll use the **map()** function which will strip the white space out of every string found in the column."
   ]
  },
  {
   "cell_type": "code",
   "execution_count": 8,
   "id": "40b415af",
   "metadata": {},
   "outputs": [
    {
     "data": {
      "text/plain": [
       "array(['ATLANTIC', 'BERGEN', 'BURLINGTON', 'CAMDEN', 'CAPE MAY',\n",
       "       'CUMBERLAND', 'ESSEX', 'GLOUCESTER', 'HUDSON', 'HUNTERDON',\n",
       "       'MERCER', 'MIDDLESEX', 'MONMOUTH', 'MORRIS', 'OCEAN', 'PASSAIC',\n",
       "       'SALEM', 'SOMERSET', 'SUSSEX', 'UNION', 'WARREN'], dtype=object)"
      ]
     },
     "execution_count": 8,
     "metadata": {},
     "output_type": "execute_result"
    }
   ],
   "source": [
    "df['County Name'] = df['County Name'].map(str.strip)\n",
    "# will address empty spaces on each cell\n",
    "df['County Name'].unique()"
   ]
  },
  {
   "cell_type": "code",
   "execution_count": 9,
   "id": "1b57b0ba",
   "metadata": {},
   "outputs": [
    {
     "data": {
      "text/plain": [
       "array(['TU', 'F ', 'M ', 'TH', 'SA', 'S ', 'W ', ' W', ' M', ' S', ' F'],\n",
       "      dtype=object)"
      ]
     },
     "execution_count": 9,
     "metadata": {},
     "output_type": "execute_result"
    }
   ],
   "source": [
    "df['Crash Day Of Week'].unique()"
   ]
  },
  {
   "cell_type": "code",
   "execution_count": 10,
   "id": "b1b5edee",
   "metadata": {},
   "outputs": [
    {
     "data": {
      "text/plain": [
       "array(['TU', 'F', 'M', 'TH', 'SA', 'S', 'W'], dtype=object)"
      ]
     },
     "execution_count": 10,
     "metadata": {},
     "output_type": "execute_result"
    }
   ],
   "source": [
    "df['Crash Day Of Week'] = df['Crash Day Of Week'].map(str.strip)\n",
    "\n",
    "df['Crash Day Of Week'].unique()"
   ]
  },
  {
   "cell_type": "markdown",
   "id": "5b575101",
   "metadata": {},
   "source": [
    "## 2. Police Dept Code + Crash Type Code"
   ]
  },
  {
   "cell_type": "markdown",
   "id": "ffb862fe",
   "metadata": {},
   "source": [
    "> Let's fix that dtype error we got at the beginning of the exercise."
   ]
  },
  {
   "cell_type": "code",
   "execution_count": 11,
   "id": "45d5079d",
   "metadata": {
    "scrolled": false
   },
   "outputs": [
    {
     "name": "stdout",
     "output_type": "stream",
     "text": [
      "<class 'pandas.core.frame.DataFrame'>\n",
      "RangeIndex: 1048575 entries, 0 to 1048574\n",
      "Data columns (total 47 columns):\n",
      " #   Column                          Non-Null Count    Dtype \n",
      "---  ------                          --------------    ----- \n",
      " 0   case code                       1048575 non-null  object\n",
      " 1   County Name                     1048575 non-null  object\n",
      " 2   Municipality Name               1048575 non-null  object\n",
      " 3   Crash Date                      1048575 non-null  object\n",
      " 4   Crash Day Of Week               1048575 non-null  object\n",
      " 5   Crash Time                      1048575 non-null  object\n",
      " 6   Police Dept Code                1048575 non-null  object\n",
      " 7   Police Department               1048575 non-null  object\n",
      " 8   Police Station                  1048575 non-null  object\n",
      " 9   Total Killed                    1048575 non-null  int64 \n",
      " 10  Total Injured                   1048575 non-null  int64 \n",
      " 11  Pedestrians Killed              1048575 non-null  int64 \n",
      " 12  Pedestrians Injured             1048575 non-null  int64 \n",
      " 13  Severity                        1048575 non-null  object\n",
      " 14  Intersection                    1048575 non-null  object\n",
      " 15  Alcohol Involved                1048575 non-null  object\n",
      " 16  HazMat Involved                 1048575 non-null  object\n",
      " 17  Crash Type Code                 1048575 non-null  object\n",
      " 18  Total Vehicles Involved         1048575 non-null  int64 \n",
      " 19  Crash Location                  1048575 non-null  object\n",
      " 20  Location Direction              1048575 non-null  object\n",
      " 21  Route                           1048575 non-null  object\n",
      " 22  Route Suffix                    1048575 non-null  object\n",
      " 23  SRI (Std Rte Identifier)        1048575 non-null  object\n",
      " 24  MilePost                        1048575 non-null  object\n",
      " 25  Road System                     1048575 non-null  int64 \n",
      " 26  Road Character                  1048575 non-null  object\n",
      " 27  Road Surface Type               1048575 non-null  object\n",
      " 28  Surface Condition               1048575 non-null  object\n",
      " 29  Light Condition                 1048575 non-null  object\n",
      " 30  Environmental Condition         1048575 non-null  object\n",
      " 31  Road Divided By                 1048575 non-null  object\n",
      " 32  Temporary Traffic Control Zone  1048575 non-null  object\n",
      " 33  Distance To Cross Street        1048575 non-null  object\n",
      " 34  Unit Of Measurement             1048575 non-null  object\n",
      " 35  Directn From Cross Street       1048575 non-null  object\n",
      " 36  Cross Street Name               1048575 non-null  object\n",
      " 37  Is Ramp                         1048575 non-null  object\n",
      " 38  Ramp To/From Route Name         1048575 non-null  object\n",
      " 39  Ramp To/From Route Direction    1048575 non-null  object\n",
      " 40  Posted Speed                    1048575 non-null  int64 \n",
      " 41  Posted Speed Cross Street       1048575 non-null  object\n",
      " 42  Latitude                        1048575 non-null  object\n",
      " 43  Longitude                       1048575 non-null  object\n",
      " 44  Cell Phone In Use Flag          1048575 non-null  object\n",
      " 45  Other Property Damage           1048575 non-null  object\n",
      " 46  Reporting Badge No.             1048575 non-null  object\n",
      "dtypes: int64(7), object(40)\n",
      "memory usage: 376.0+ MB\n"
     ]
    }
   ],
   "source": [
    "df.info()"
   ]
  },
  {
   "cell_type": "markdown",
   "id": "e577ad74",
   "metadata": {},
   "source": [
    "- The warning at the beginning said it was **column 6** that had **mixed dtypes**. If we look at our column list and count to the sixth column (Remember to count from zero!), we'll see that it's the **Police Dept Code** column. Let's look at every unique value in that column."
   ]
  },
  {
   "cell_type": "code",
   "execution_count": 12,
   "id": "c0770030",
   "metadata": {},
   "outputs": [
    {
     "data": {
      "text/plain": [
       "array(['1', '99', '  ', '2', '3', '4', 1, 99, 2, 3, 4], dtype=object)"
      ]
     },
     "execution_count": 12,
     "metadata": {},
     "output_type": "execute_result"
    }
   ],
   "source": [
    "df['Police Dept Code'].unique()"
   ]
  },
  {
   "cell_type": "markdown",
   "id": "3e33a67c",
   "metadata": {},
   "source": [
    "* And there it is! We can see, there are strings and integers mixed together in the same column.\n",
    "\n",
    "- We also can find the same situation in column 17(“Crash Type Code”)."
   ]
  },
  {
   "cell_type": "code",
   "execution_count": 13,
   "id": "f49351fb",
   "metadata": {},
   "outputs": [
    {
     "data": {
      "text/plain": [
       "array(['2', '8', '1', '6', '11', '5', '3', '13', '7', '99', '15', '14',\n",
       "       '10', '4', '12', '9', '16', '  ', '0'], dtype=object)"
      ]
     },
     "execution_count": 13,
     "metadata": {},
     "output_type": "execute_result"
    }
   ],
   "source": [
    "df['Crash Type Code'].unique()"
   ]
  },
  {
   "cell_type": "markdown",
   "id": "25805817",
   "metadata": {},
   "source": [
    "> Let's fix that by changing every value in both columns to a string using the astype() function."
   ]
  },
  {
   "cell_type": "code",
   "execution_count": 14,
   "id": "33007407",
   "metadata": {},
   "outputs": [],
   "source": [
    "df['Police Dept Code'] = df['Police Dept Code'].astype(str)\n",
    "\n",
    "df['Crash Type Code'] = df['Crash Type Code'].astype(str)"
   ]
  },
  {
   "cell_type": "markdown",
   "id": "889381b9",
   "metadata": {},
   "source": [
    "- We're changing it to a string because we don't need to do math with these numbers since they are codes so it's more beneficial to use them as objects.\n",
    "\n",
    "\n",
    "\n",
    "- If you wanted to change something to an integer or a float, you'll need to use **astype(int)** and **astype(float)** respectively."
   ]
  },
  {
   "cell_type": "markdown",
   "id": "8149ee4e",
   "metadata": {},
   "source": [
    "> Let's make the dataframe a little bit more manageable by weeding out some unnecessary columns.\n",
    "\n",
    "- So we have to create a new dataframe called accidents."
   ]
  },
  {
   "cell_type": "code",
   "execution_count": 15,
   "id": "77b99e16",
   "metadata": {},
   "outputs": [],
   "source": [
    "accidents = df[['County Name',\n",
    "                'Municipality Name',\n",
    "                'Crash Date',\n",
    "                'Crash Day Of Week',\n",
    "                'Crash Time',\n",
    "                'Crash Location',\n",
    "                'Total Killed',\n",
    "                'Total Injured',\n",
    "                'Pedestrians Killed',\n",
    "                'Pedestrians Injured',\n",
    "                'Severity',\n",
    "                'Total Vehicles Involved',\n",
    "                'Alcohol Involved',\n",
    "                'Cell Phone In Use Flag']]"
   ]
  },
  {
   "cell_type": "markdown",
   "id": "32670763",
   "metadata": {},
   "source": [
    "## 3. How many car accidents had alcohol involved?\n",
    "\n",
    "## What about  Cell Phone In Use Flag?"
   ]
  },
  {
   "cell_type": "markdown",
   "id": "879c7a6e",
   "metadata": {},
   "source": [
    "> Let's find out the unique values that come up in the column Alcohol Involved."
   ]
  },
  {
   "cell_type": "code",
   "execution_count": 16,
   "id": "0ca7cca8",
   "metadata": {},
   "outputs": [
    {
     "data": {
      "text/plain": [
       "array(['N', 'Y'], dtype=object)"
      ]
     },
     "execution_count": 16,
     "metadata": {},
     "output_type": "execute_result"
    }
   ],
   "source": [
    "accidents['Alcohol Involved'].unique()"
   ]
  },
  {
   "cell_type": "markdown",
   "id": "075454f4",
   "metadata": {},
   "source": [
    "- It has only two unique values in the column: N for no and Y for yes.\n",
    "\n",
    "\n",
    "- Use function **value_counts()** to calculate the number of Ns & Ys."
   ]
  },
  {
   "cell_type": "code",
   "execution_count": 17,
   "id": "f162244b",
   "metadata": {},
   "outputs": [
    {
     "data": {
      "text/plain": [
       "N    1017766\n",
       "Y      30809\n",
       "Name: Alcohol Involved, dtype: int64"
      ]
     },
     "execution_count": 17,
     "metadata": {},
     "output_type": "execute_result"
    }
   ],
   "source": [
    "accidents['Alcohol Involved'].value_counts()"
   ]
  },
  {
   "cell_type": "markdown",
   "id": "a907b974",
   "metadata": {},
   "source": [
    "- A lot more Ns than Ys. But just what percentage are the Ys compared to the Ns?"
   ]
  },
  {
   "cell_type": "code",
   "execution_count": 18,
   "id": "5a6fe919",
   "metadata": {},
   "outputs": [
    {
     "data": {
      "text/plain": [
       "1048575"
      ]
     },
     "execution_count": 18,
     "metadata": {},
     "output_type": "execute_result"
    }
   ],
   "source": [
    "accidents['Alcohol Involved'].count()"
   ]
  },
  {
   "cell_type": "markdown",
   "id": "784349f7",
   "metadata": {},
   "source": [
    "#### Attention : The count() function doesn't count NAs or null values.\n",
    "\n",
    "\n",
    "- Always make sure to check NAs using the isnull() function, followed by sum()"
   ]
  },
  {
   "cell_type": "code",
   "execution_count": 19,
   "id": "155ebc43",
   "metadata": {},
   "outputs": [
    {
     "data": {
      "text/plain": [
       "0"
      ]
     },
     "execution_count": 19,
     "metadata": {},
     "output_type": "execute_result"
    }
   ],
   "source": [
    "accidents['Alcohol Involved'].isnull().sum()"
   ]
  },
  {
   "cell_type": "code",
   "execution_count": 20,
   "id": "1507496d",
   "metadata": {},
   "outputs": [],
   "source": [
    "Alcohol_Involved = pd.DataFrame(accidents['Alcohol Involved'].value_counts())"
   ]
  },
  {
   "cell_type": "code",
   "execution_count": 21,
   "id": "843ee297",
   "metadata": {},
   "outputs": [
    {
     "data": {
      "text/html": [
       "<div>\n",
       "<style scoped>\n",
       "    .dataframe tbody tr th:only-of-type {\n",
       "        vertical-align: middle;\n",
       "    }\n",
       "\n",
       "    .dataframe tbody tr th {\n",
       "        vertical-align: top;\n",
       "    }\n",
       "\n",
       "    .dataframe thead th {\n",
       "        text-align: right;\n",
       "    }\n",
       "</style>\n",
       "<table border=\"1\" class=\"dataframe\">\n",
       "  <thead>\n",
       "    <tr style=\"text-align: right;\">\n",
       "      <th></th>\n",
       "      <th>Alcohol Involved</th>\n",
       "      <th>Percentage</th>\n",
       "    </tr>\n",
       "  </thead>\n",
       "  <tbody>\n",
       "    <tr>\n",
       "      <th>N</th>\n",
       "      <td>1017766</td>\n",
       "      <td>97.061822</td>\n",
       "    </tr>\n",
       "    <tr>\n",
       "      <th>Y</th>\n",
       "      <td>30809</td>\n",
       "      <td>2.938178</td>\n",
       "    </tr>\n",
       "  </tbody>\n",
       "</table>\n",
       "</div>"
      ],
      "text/plain": [
       "   Alcohol Involved  Percentage\n",
       "N           1017766   97.061822\n",
       "Y             30809    2.938178"
      ]
     },
     "execution_count": 21,
     "metadata": {},
     "output_type": "execute_result"
    }
   ],
   "source": [
    "Alcohol_Involved['Percentage'] = Alcohol_Involved['Alcohol Involved'] / accidents['Alcohol Involved'].count() * 100\n",
    "\n",
    "Alcohol_Involved"
   ]
  },
  {
   "cell_type": "markdown",
   "id": "10c24c84",
   "metadata": {},
   "source": [
    "#### Analysis:\n",
    "\n",
    "\n",
    "- We still can see that 2.93% people(almost 3%) broke the driving law because they chose to drive after drinking. The absolute number of accidents alcohol involved is also very high, reaching more than 30,000."
   ]
  },
  {
   "cell_type": "code",
   "execution_count": 22,
   "id": "d4f1e153",
   "metadata": {},
   "outputs": [
    {
     "data": {
      "text/plain": [
       "array(['N', 'Y'], dtype=object)"
      ]
     },
     "execution_count": 22,
     "metadata": {},
     "output_type": "execute_result"
    }
   ],
   "source": [
    "accidents['Cell Phone In Use Flag'].unique()"
   ]
  },
  {
   "cell_type": "code",
   "execution_count": 23,
   "id": "81b6e65b",
   "metadata": {},
   "outputs": [
    {
     "data": {
      "text/plain": [
       "N    1038918\n",
       "Y       9657\n",
       "Name: Cell Phone In Use Flag, dtype: int64"
      ]
     },
     "execution_count": 23,
     "metadata": {},
     "output_type": "execute_result"
    }
   ],
   "source": [
    "accidents['Cell Phone In Use Flag'].value_counts()"
   ]
  },
  {
   "cell_type": "code",
   "execution_count": 24,
   "id": "e38d604f",
   "metadata": {},
   "outputs": [
    {
     "data": {
      "text/plain": [
       "1048575"
      ]
     },
     "execution_count": 24,
     "metadata": {},
     "output_type": "execute_result"
    }
   ],
   "source": [
    "accidents['Cell Phone In Use Flag'].count()"
   ]
  },
  {
   "cell_type": "code",
   "execution_count": 25,
   "id": "a90b31a0",
   "metadata": {},
   "outputs": [
    {
     "data": {
      "text/plain": [
       "0"
      ]
     },
     "execution_count": 25,
     "metadata": {},
     "output_type": "execute_result"
    }
   ],
   "source": [
    "accidents['Cell Phone In Use Flag'].isnull().sum()"
   ]
  },
  {
   "cell_type": "code",
   "execution_count": 26,
   "id": "36d8a767",
   "metadata": {},
   "outputs": [],
   "source": [
    "Cell_Phone = pd.DataFrame(accidents['Cell Phone In Use Flag'].value_counts())"
   ]
  },
  {
   "cell_type": "code",
   "execution_count": 27,
   "id": "87bf95c5",
   "metadata": {},
   "outputs": [
    {
     "data": {
      "text/html": [
       "<div>\n",
       "<style scoped>\n",
       "    .dataframe tbody tr th:only-of-type {\n",
       "        vertical-align: middle;\n",
       "    }\n",
       "\n",
       "    .dataframe tbody tr th {\n",
       "        vertical-align: top;\n",
       "    }\n",
       "\n",
       "    .dataframe thead th {\n",
       "        text-align: right;\n",
       "    }\n",
       "</style>\n",
       "<table border=\"1\" class=\"dataframe\">\n",
       "  <thead>\n",
       "    <tr style=\"text-align: right;\">\n",
       "      <th></th>\n",
       "      <th>Cell Phone In Use Flag</th>\n",
       "      <th>Percentage</th>\n",
       "    </tr>\n",
       "  </thead>\n",
       "  <tbody>\n",
       "    <tr>\n",
       "      <th>N</th>\n",
       "      <td>1038918</td>\n",
       "      <td>99.079036</td>\n",
       "    </tr>\n",
       "    <tr>\n",
       "      <th>Y</th>\n",
       "      <td>9657</td>\n",
       "      <td>0.920964</td>\n",
       "    </tr>\n",
       "  </tbody>\n",
       "</table>\n",
       "</div>"
      ],
      "text/plain": [
       "   Cell Phone In Use Flag  Percentage\n",
       "N                 1038918   99.079036\n",
       "Y                    9657    0.920964"
      ]
     },
     "execution_count": 27,
     "metadata": {},
     "output_type": "execute_result"
    }
   ],
   "source": [
    "Cell_Phone['Percentage'] = Cell_Phone['Cell Phone In Use Flag'] / accidents['Cell Phone In Use Flag'].count() * 100\n",
    "\n",
    "Cell_Phone"
   ]
  },
  {
   "cell_type": "markdown",
   "id": "ad612539",
   "metadata": {},
   "source": [
    "#### Analysis:\n",
    "\n",
    "\n",
    "- We can see that only 0.92% people(almost 1%) broke the driving law because they chose to use cell phones when they are driving."
   ]
  },
  {
   "cell_type": "markdown",
   "id": "025666da",
   "metadata": {},
   "source": [
    "## 4. How many total people were killed in every county?"
   ]
  },
  {
   "cell_type": "code",
   "execution_count": 28,
   "id": "0ceb38bf",
   "metadata": {},
   "outputs": [
    {
     "data": {
      "text/plain": [
       "MIDDLESEX     115760\n",
       "ESSEX         112580\n",
       "BERGEN        112521\n",
       "HUDSON         78693\n",
       "CAMDEN         64739\n",
       "MONMOUTH       64637\n",
       "UNION          59556\n",
       "PASSAIC        56494\n",
       "MERCER         55008\n",
       "OCEAN          53104\n",
       "MORRIS         49096\n",
       "BURLINGTON     45010\n",
       "SOMERSET       36621\n",
       "ATLANTIC       35130\n",
       "GLOUCESTER     31940\n",
       "CUMBERLAND     18876\n",
       "HUNTERDON      16441\n",
       "CAPE MAY       13198\n",
       "SUSSEX         12587\n",
       "WARREN         11123\n",
       "SALEM           5461\n",
       "Name: County Name, dtype: int64"
      ]
     },
     "execution_count": 28,
     "metadata": {},
     "output_type": "execute_result"
    }
   ],
   "source": [
    "# the numer of accidents reported in each county\n",
    "\n",
    "accidents['County Name'].value_counts()"
   ]
  },
  {
   "cell_type": "markdown",
   "id": "d08b92dc",
   "metadata": {},
   "source": [
    "> First, let's split up every incident that happened in every county by using the groupby() function.\n",
    "\n",
    "> Combine with sum() function to get total result."
   ]
  },
  {
   "cell_type": "code",
   "execution_count": 29,
   "id": "b478a0f4",
   "metadata": {},
   "outputs": [
    {
     "data": {
      "text/html": [
       "<div>\n",
       "<style scoped>\n",
       "    .dataframe tbody tr th:only-of-type {\n",
       "        vertical-align: middle;\n",
       "    }\n",
       "\n",
       "    .dataframe tbody tr th {\n",
       "        vertical-align: top;\n",
       "    }\n",
       "\n",
       "    .dataframe thead th {\n",
       "        text-align: right;\n",
       "    }\n",
       "</style>\n",
       "<table border=\"1\" class=\"dataframe\">\n",
       "  <thead>\n",
       "    <tr style=\"text-align: right;\">\n",
       "      <th></th>\n",
       "      <th>County Name</th>\n",
       "      <th>Total Killed</th>\n",
       "      <th>Total Injured</th>\n",
       "      <th>Pedestrians Killed</th>\n",
       "      <th>Pedestrians Injured</th>\n",
       "      <th>Total Vehicles Involved</th>\n",
       "    </tr>\n",
       "  </thead>\n",
       "  <tbody>\n",
       "    <tr>\n",
       "      <th>0</th>\n",
       "      <td>ATLANTIC</td>\n",
       "      <td>117</td>\n",
       "      <td>13518</td>\n",
       "      <td>23</td>\n",
       "      <td>728</td>\n",
       "      <td>64147</td>\n",
       "    </tr>\n",
       "    <tr>\n",
       "      <th>1</th>\n",
       "      <td>BERGEN</td>\n",
       "      <td>101</td>\n",
       "      <td>31706</td>\n",
       "      <td>42</td>\n",
       "      <td>2136</td>\n",
       "      <td>215278</td>\n",
       "    </tr>\n",
       "    <tr>\n",
       "      <th>2</th>\n",
       "      <td>BURLINGTON</td>\n",
       "      <td>161</td>\n",
       "      <td>15285</td>\n",
       "      <td>28</td>\n",
       "      <td>398</td>\n",
       "      <td>81956</td>\n",
       "    </tr>\n",
       "    <tr>\n",
       "      <th>3</th>\n",
       "      <td>CAMDEN</td>\n",
       "      <td>173</td>\n",
       "      <td>24909</td>\n",
       "      <td>45</td>\n",
       "      <td>1102</td>\n",
       "      <td>122872</td>\n",
       "    </tr>\n",
       "    <tr>\n",
       "      <th>4</th>\n",
       "      <td>CAPE MAY</td>\n",
       "      <td>32</td>\n",
       "      <td>4206</td>\n",
       "      <td>1</td>\n",
       "      <td>172</td>\n",
       "      <td>23761</td>\n",
       "    </tr>\n",
       "    <tr>\n",
       "      <th>5</th>\n",
       "      <td>CUMBERLAND</td>\n",
       "      <td>99</td>\n",
       "      <td>7296</td>\n",
       "      <td>9</td>\n",
       "      <td>226</td>\n",
       "      <td>33571</td>\n",
       "    </tr>\n",
       "    <tr>\n",
       "      <th>6</th>\n",
       "      <td>ESSEX</td>\n",
       "      <td>170</td>\n",
       "      <td>39627</td>\n",
       "      <td>63</td>\n",
       "      <td>3511</td>\n",
       "      <td>216820</td>\n",
       "    </tr>\n",
       "    <tr>\n",
       "      <th>7</th>\n",
       "      <td>GLOUCESTER</td>\n",
       "      <td>102</td>\n",
       "      <td>11442</td>\n",
       "      <td>17</td>\n",
       "      <td>342</td>\n",
       "      <td>57627</td>\n",
       "    </tr>\n",
       "    <tr>\n",
       "      <th>8</th>\n",
       "      <td>HUDSON</td>\n",
       "      <td>87</td>\n",
       "      <td>19842</td>\n",
       "      <td>32</td>\n",
       "      <td>2675</td>\n",
       "      <td>154819</td>\n",
       "    </tr>\n",
       "    <tr>\n",
       "      <th>9</th>\n",
       "      <td>HUNTERDON</td>\n",
       "      <td>40</td>\n",
       "      <td>3997</td>\n",
       "      <td>9</td>\n",
       "      <td>59</td>\n",
       "      <td>27295</td>\n",
       "    </tr>\n",
       "    <tr>\n",
       "      <th>10</th>\n",
       "      <td>MERCER</td>\n",
       "      <td>85</td>\n",
       "      <td>15190</td>\n",
       "      <td>24</td>\n",
       "      <td>642</td>\n",
       "      <td>103554</td>\n",
       "    </tr>\n",
       "    <tr>\n",
       "      <th>11</th>\n",
       "      <td>MIDDLESEX</td>\n",
       "      <td>182</td>\n",
       "      <td>34548</td>\n",
       "      <td>53</td>\n",
       "      <td>1347</td>\n",
       "      <td>220625</td>\n",
       "    </tr>\n",
       "    <tr>\n",
       "      <th>12</th>\n",
       "      <td>MONMOUTH</td>\n",
       "      <td>131</td>\n",
       "      <td>18713</td>\n",
       "      <td>31</td>\n",
       "      <td>663</td>\n",
       "      <td>119327</td>\n",
       "    </tr>\n",
       "    <tr>\n",
       "      <th>13</th>\n",
       "      <td>MORRIS</td>\n",
       "      <td>72</td>\n",
       "      <td>12705</td>\n",
       "      <td>18</td>\n",
       "      <td>419</td>\n",
       "      <td>89798</td>\n",
       "    </tr>\n",
       "    <tr>\n",
       "      <th>14</th>\n",
       "      <td>OCEAN</td>\n",
       "      <td>160</td>\n",
       "      <td>17508</td>\n",
       "      <td>34</td>\n",
       "      <td>610</td>\n",
       "      <td>98809</td>\n",
       "    </tr>\n",
       "    <tr>\n",
       "      <th>15</th>\n",
       "      <td>PASSAIC</td>\n",
       "      <td>75</td>\n",
       "      <td>18293</td>\n",
       "      <td>23</td>\n",
       "      <td>1373</td>\n",
       "      <td>107298</td>\n",
       "    </tr>\n",
       "    <tr>\n",
       "      <th>16</th>\n",
       "      <td>SALEM</td>\n",
       "      <td>40</td>\n",
       "      <td>1973</td>\n",
       "      <td>1</td>\n",
       "      <td>42</td>\n",
       "      <td>8924</td>\n",
       "    </tr>\n",
       "    <tr>\n",
       "      <th>17</th>\n",
       "      <td>SOMERSET</td>\n",
       "      <td>60</td>\n",
       "      <td>9643</td>\n",
       "      <td>9</td>\n",
       "      <td>323</td>\n",
       "      <td>66864</td>\n",
       "    </tr>\n",
       "    <tr>\n",
       "      <th>18</th>\n",
       "      <td>SUSSEX</td>\n",
       "      <td>35</td>\n",
       "      <td>3679</td>\n",
       "      <td>1</td>\n",
       "      <td>79</td>\n",
       "      <td>20406</td>\n",
       "    </tr>\n",
       "    <tr>\n",
       "      <th>19</th>\n",
       "      <td>UNION</td>\n",
       "      <td>110</td>\n",
       "      <td>19700</td>\n",
       "      <td>42</td>\n",
       "      <td>1264</td>\n",
       "      <td>114766</td>\n",
       "    </tr>\n",
       "    <tr>\n",
       "      <th>20</th>\n",
       "      <td>WARREN</td>\n",
       "      <td>29</td>\n",
       "      <td>3324</td>\n",
       "      <td>4</td>\n",
       "      <td>83</td>\n",
       "      <td>18607</td>\n",
       "    </tr>\n",
       "  </tbody>\n",
       "</table>\n",
       "</div>"
      ],
      "text/plain": [
       "   County Name  Total Killed  Total Injured  Pedestrians Killed  \\\n",
       "0     ATLANTIC           117          13518                  23   \n",
       "1       BERGEN           101          31706                  42   \n",
       "2   BURLINGTON           161          15285                  28   \n",
       "3       CAMDEN           173          24909                  45   \n",
       "4     CAPE MAY            32           4206                   1   \n",
       "5   CUMBERLAND            99           7296                   9   \n",
       "6        ESSEX           170          39627                  63   \n",
       "7   GLOUCESTER           102          11442                  17   \n",
       "8       HUDSON            87          19842                  32   \n",
       "9    HUNTERDON            40           3997                   9   \n",
       "10      MERCER            85          15190                  24   \n",
       "11   MIDDLESEX           182          34548                  53   \n",
       "12    MONMOUTH           131          18713                  31   \n",
       "13      MORRIS            72          12705                  18   \n",
       "14       OCEAN           160          17508                  34   \n",
       "15     PASSAIC            75          18293                  23   \n",
       "16       SALEM            40           1973                   1   \n",
       "17    SOMERSET            60           9643                   9   \n",
       "18      SUSSEX            35           3679                   1   \n",
       "19       UNION           110          19700                  42   \n",
       "20      WARREN            29           3324                   4   \n",
       "\n",
       "    Pedestrians Injured  Total Vehicles Involved  \n",
       "0                   728                    64147  \n",
       "1                  2136                   215278  \n",
       "2                   398                    81956  \n",
       "3                  1102                   122872  \n",
       "4                   172                    23761  \n",
       "5                   226                    33571  \n",
       "6                  3511                   216820  \n",
       "7                   342                    57627  \n",
       "8                  2675                   154819  \n",
       "9                    59                    27295  \n",
       "10                  642                   103554  \n",
       "11                 1347                   220625  \n",
       "12                  663                   119327  \n",
       "13                  419                    89798  \n",
       "14                  610                    98809  \n",
       "15                 1373                   107298  \n",
       "16                   42                     8924  \n",
       "17                  323                    66864  \n",
       "18                   79                    20406  \n",
       "19                 1264                   114766  \n",
       "20                   83                    18607  "
      ]
     },
     "execution_count": 29,
     "metadata": {},
     "output_type": "execute_result"
    }
   ],
   "source": [
    "county_level_accidents = accidents.groupby('County Name').sum()\n",
    "\n",
    "county_level_accidents = county_level_accidents.reset_index()\n",
    "\n",
    "county_level_accidents"
   ]
  },
  {
   "cell_type": "code",
   "execution_count": 30,
   "id": "cc30abf5",
   "metadata": {},
   "outputs": [
    {
     "data": {
      "text/html": [
       "<div>\n",
       "<style scoped>\n",
       "    .dataframe tbody tr th:only-of-type {\n",
       "        vertical-align: middle;\n",
       "    }\n",
       "\n",
       "    .dataframe tbody tr th {\n",
       "        vertical-align: top;\n",
       "    }\n",
       "\n",
       "    .dataframe thead th {\n",
       "        text-align: right;\n",
       "    }\n",
       "</style>\n",
       "<table border=\"1\" class=\"dataframe\">\n",
       "  <thead>\n",
       "    <tr style=\"text-align: right;\">\n",
       "      <th></th>\n",
       "      <th>County Name</th>\n",
       "      <th>Total Killed</th>\n",
       "    </tr>\n",
       "  </thead>\n",
       "  <tbody>\n",
       "    <tr>\n",
       "      <th>11</th>\n",
       "      <td>MIDDLESEX</td>\n",
       "      <td>182</td>\n",
       "    </tr>\n",
       "    <tr>\n",
       "      <th>3</th>\n",
       "      <td>CAMDEN</td>\n",
       "      <td>173</td>\n",
       "    </tr>\n",
       "    <tr>\n",
       "      <th>6</th>\n",
       "      <td>ESSEX</td>\n",
       "      <td>170</td>\n",
       "    </tr>\n",
       "    <tr>\n",
       "      <th>2</th>\n",
       "      <td>BURLINGTON</td>\n",
       "      <td>161</td>\n",
       "    </tr>\n",
       "    <tr>\n",
       "      <th>14</th>\n",
       "      <td>OCEAN</td>\n",
       "      <td>160</td>\n",
       "    </tr>\n",
       "    <tr>\n",
       "      <th>12</th>\n",
       "      <td>MONMOUTH</td>\n",
       "      <td>131</td>\n",
       "    </tr>\n",
       "    <tr>\n",
       "      <th>0</th>\n",
       "      <td>ATLANTIC</td>\n",
       "      <td>117</td>\n",
       "    </tr>\n",
       "    <tr>\n",
       "      <th>19</th>\n",
       "      <td>UNION</td>\n",
       "      <td>110</td>\n",
       "    </tr>\n",
       "    <tr>\n",
       "      <th>7</th>\n",
       "      <td>GLOUCESTER</td>\n",
       "      <td>102</td>\n",
       "    </tr>\n",
       "    <tr>\n",
       "      <th>1</th>\n",
       "      <td>BERGEN</td>\n",
       "      <td>101</td>\n",
       "    </tr>\n",
       "    <tr>\n",
       "      <th>5</th>\n",
       "      <td>CUMBERLAND</td>\n",
       "      <td>99</td>\n",
       "    </tr>\n",
       "    <tr>\n",
       "      <th>8</th>\n",
       "      <td>HUDSON</td>\n",
       "      <td>87</td>\n",
       "    </tr>\n",
       "    <tr>\n",
       "      <th>10</th>\n",
       "      <td>MERCER</td>\n",
       "      <td>85</td>\n",
       "    </tr>\n",
       "    <tr>\n",
       "      <th>15</th>\n",
       "      <td>PASSAIC</td>\n",
       "      <td>75</td>\n",
       "    </tr>\n",
       "    <tr>\n",
       "      <th>13</th>\n",
       "      <td>MORRIS</td>\n",
       "      <td>72</td>\n",
       "    </tr>\n",
       "    <tr>\n",
       "      <th>17</th>\n",
       "      <td>SOMERSET</td>\n",
       "      <td>60</td>\n",
       "    </tr>\n",
       "    <tr>\n",
       "      <th>9</th>\n",
       "      <td>HUNTERDON</td>\n",
       "      <td>40</td>\n",
       "    </tr>\n",
       "    <tr>\n",
       "      <th>16</th>\n",
       "      <td>SALEM</td>\n",
       "      <td>40</td>\n",
       "    </tr>\n",
       "    <tr>\n",
       "      <th>18</th>\n",
       "      <td>SUSSEX</td>\n",
       "      <td>35</td>\n",
       "    </tr>\n",
       "    <tr>\n",
       "      <th>4</th>\n",
       "      <td>CAPE MAY</td>\n",
       "      <td>32</td>\n",
       "    </tr>\n",
       "    <tr>\n",
       "      <th>20</th>\n",
       "      <td>WARREN</td>\n",
       "      <td>29</td>\n",
       "    </tr>\n",
       "  </tbody>\n",
       "</table>\n",
       "</div>"
      ],
      "text/plain": [
       "   County Name  Total Killed\n",
       "11   MIDDLESEX           182\n",
       "3       CAMDEN           173\n",
       "6        ESSEX           170\n",
       "2   BURLINGTON           161\n",
       "14       OCEAN           160\n",
       "12    MONMOUTH           131\n",
       "0     ATLANTIC           117\n",
       "19       UNION           110\n",
       "7   GLOUCESTER           102\n",
       "1       BERGEN           101\n",
       "5   CUMBERLAND            99\n",
       "8       HUDSON            87\n",
       "10      MERCER            85\n",
       "15     PASSAIC            75\n",
       "13      MORRIS            72\n",
       "17    SOMERSET            60\n",
       "9    HUNTERDON            40\n",
       "16       SALEM            40\n",
       "18      SUSSEX            35\n",
       "4     CAPE MAY            32\n",
       "20      WARREN            29"
      ]
     },
     "execution_count": 30,
     "metadata": {},
     "output_type": "execute_result"
    }
   ],
   "source": [
    "total_death = pd.DataFrame(county_level_accidents[['County Name',\n",
    "                                                   'Total Killed']].sort_values(by='Total Killed',\n",
    "                                                                                ascending=False))\n",
    "\n",
    "total_death"
   ]
  },
  {
   "cell_type": "markdown",
   "id": "0f078f62",
   "metadata": {},
   "source": [
    "## 5. Let's look at time of accidents, like \"Crash Date\", \"Crash Day Of Week\" and \"Crash Time\"."
   ]
  },
  {
   "cell_type": "code",
   "execution_count": 31,
   "id": "c943aab1",
   "metadata": {},
   "outputs": [
    {
     "name": "stdout",
     "output_type": "stream",
     "text": [
      "<class 'pandas.core.frame.DataFrame'>\n",
      "RangeIndex: 1048575 entries, 0 to 1048574\n",
      "Data columns (total 14 columns):\n",
      " #   Column                   Non-Null Count    Dtype \n",
      "---  ------                   --------------    ----- \n",
      " 0   County Name              1048575 non-null  object\n",
      " 1   Municipality Name        1048575 non-null  object\n",
      " 2   Crash Date               1048575 non-null  object\n",
      " 3   Crash Day Of Week        1048575 non-null  object\n",
      " 4   Crash Time               1048575 non-null  object\n",
      " 5   Crash Location           1048575 non-null  object\n",
      " 6   Total Killed             1048575 non-null  int64 \n",
      " 7   Total Injured            1048575 non-null  int64 \n",
      " 8   Pedestrians Killed       1048575 non-null  int64 \n",
      " 9   Pedestrians Injured      1048575 non-null  int64 \n",
      " 10  Severity                 1048575 non-null  object\n",
      " 11  Total Vehicles Involved  1048575 non-null  int64 \n",
      " 12  Alcohol Involved         1048575 non-null  object\n",
      " 13  Cell Phone In Use Flag   1048575 non-null  object\n",
      "dtypes: int64(5), object(9)\n",
      "memory usage: 112.0+ MB\n"
     ]
    }
   ],
   "source": [
    "accidents.info()"
   ]
  },
  {
   "cell_type": "markdown",
   "id": "132292cd",
   "metadata": {},
   "source": [
    "> We notice that the dates on the 'Crash Date' are strings and not Python date objects."
   ]
  },
  {
   "cell_type": "code",
   "execution_count": 32,
   "id": "9b87b30d",
   "metadata": {},
   "outputs": [],
   "source": [
    "from datetime import datetime\n",
    "\n",
    "import datetime as dt"
   ]
  },
  {
   "cell_type": "code",
   "execution_count": 33,
   "id": "f41c3a9a",
   "metadata": {},
   "outputs": [
    {
     "name": "stderr",
     "output_type": "stream",
     "text": [
      "<ipython-input-33-5a4f1440300c>:1: SettingWithCopyWarning: \n",
      "A value is trying to be set on a copy of a slice from a DataFrame.\n",
      "Try using .loc[row_indexer,col_indexer] = value instead\n",
      "\n",
      "See the caveats in the documentation: https://pandas.pydata.org/pandas-docs/stable/user_guide/indexing.html#returning-a-view-versus-a-copy\n",
      "  accidents['Crash Date']= pd.to_datetime(accidents['Crash Date'])\n"
     ]
    }
   ],
   "source": [
    "accidents['Crash Date']= pd.to_datetime(accidents['Crash Date'])"
   ]
  },
  {
   "cell_type": "code",
   "execution_count": 34,
   "id": "6cfebde8",
   "metadata": {},
   "outputs": [
    {
     "data": {
      "text/plain": [
       "0         2008-03-04\n",
       "1         2008-12-19\n",
       "2         2008-11-25\n",
       "3         2008-03-31\n",
       "4         2008-01-25\n",
       "             ...    \n",
       "1048570   2011-07-21\n",
       "1048571   2011-07-21\n",
       "1048572   2011-07-21\n",
       "1048573   2011-07-22\n",
       "1048574   2011-07-22\n",
       "Name: Crash Date, Length: 1048575, dtype: datetime64[ns]"
      ]
     },
     "execution_count": 34,
     "metadata": {},
     "output_type": "execute_result"
    }
   ],
   "source": [
    "accidents['Crash Date']"
   ]
  },
  {
   "cell_type": "code",
   "execution_count": 35,
   "id": "28d90ed3",
   "metadata": {},
   "outputs": [
    {
     "name": "stderr",
     "output_type": "stream",
     "text": [
      "<ipython-input-35-1c29c01b97e9>:1: SettingWithCopyWarning: \n",
      "A value is trying to be set on a copy of a slice from a DataFrame.\n",
      "Try using .loc[row_indexer,col_indexer] = value instead\n",
      "\n",
      "See the caveats in the documentation: https://pandas.pydata.org/pandas-docs/stable/user_guide/indexing.html#returning-a-view-versus-a-copy\n",
      "  accidents['Crash Time'] = accidents['Crash Time'].astype(str)\n",
      "<ipython-input-35-1c29c01b97e9>:3: SettingWithCopyWarning: \n",
      "A value is trying to be set on a copy of a slice from a DataFrame.\n",
      "Try using .loc[row_indexer,col_indexer] = value instead\n",
      "\n",
      "See the caveats in the documentation: https://pandas.pydata.org/pandas-docs/stable/user_guide/indexing.html#returning-a-view-versus-a-copy\n",
      "  accidents['Crash Time'] = [i[:2] if len(i) == 4 else i[0] for i in df['Crash Time']]\n"
     ]
    }
   ],
   "source": [
    "accidents['Crash Time'] = accidents['Crash Time'].astype(str)\n",
    "\n",
    "accidents['Crash Time'] = [i[:2] if len(i) == 4 else i[0] for i in df['Crash Time']]"
   ]
  },
  {
   "cell_type": "code",
   "execution_count": 36,
   "id": "9188f199",
   "metadata": {},
   "outputs": [
    {
     "name": "stderr",
     "output_type": "stream",
     "text": [
      "<ipython-input-36-4f0dac79ec64>:1: SettingWithCopyWarning: \n",
      "A value is trying to be set on a copy of a slice from a DataFrame.\n",
      "Try using .loc[row_indexer,col_indexer] = value instead\n",
      "\n",
      "See the caveats in the documentation: https://pandas.pydata.org/pandas-docs/stable/user_guide/indexing.html#returning-a-view-versus-a-copy\n",
      "  accidents['year'] = accidents['Crash Date'].dt.year\n",
      "<ipython-input-36-4f0dac79ec64>:2: SettingWithCopyWarning: \n",
      "A value is trying to be set on a copy of a slice from a DataFrame.\n",
      "Try using .loc[row_indexer,col_indexer] = value instead\n",
      "\n",
      "See the caveats in the documentation: https://pandas.pydata.org/pandas-docs/stable/user_guide/indexing.html#returning-a-view-versus-a-copy\n",
      "  accidents['month'] = accidents['Crash Date'].dt.month\n"
     ]
    }
   ],
   "source": [
    "accidents['year'] = accidents['Crash Date'].dt.year\n",
    "accidents['month'] = accidents['Crash Date'].dt.month"
   ]
  },
  {
   "cell_type": "code",
   "execution_count": 37,
   "id": "6a47bc5a",
   "metadata": {},
   "outputs": [
    {
     "data": {
      "text/html": [
       "<div>\n",
       "<style scoped>\n",
       "    .dataframe tbody tr th:only-of-type {\n",
       "        vertical-align: middle;\n",
       "    }\n",
       "\n",
       "    .dataframe tbody tr th {\n",
       "        vertical-align: top;\n",
       "    }\n",
       "\n",
       "    .dataframe thead th {\n",
       "        text-align: right;\n",
       "    }\n",
       "</style>\n",
       "<table border=\"1\" class=\"dataframe\">\n",
       "  <thead>\n",
       "    <tr style=\"text-align: right;\">\n",
       "      <th></th>\n",
       "      <th>County Name</th>\n",
       "      <th>Municipality Name</th>\n",
       "      <th>Crash Date</th>\n",
       "      <th>Crash Day Of Week</th>\n",
       "      <th>Crash Time</th>\n",
       "      <th>Crash Location</th>\n",
       "      <th>Total Killed</th>\n",
       "      <th>Total Injured</th>\n",
       "      <th>Pedestrians Killed</th>\n",
       "      <th>Pedestrians Injured</th>\n",
       "      <th>Severity</th>\n",
       "      <th>Total Vehicles Involved</th>\n",
       "      <th>Alcohol Involved</th>\n",
       "      <th>Cell Phone In Use Flag</th>\n",
       "      <th>year</th>\n",
       "      <th>month</th>\n",
       "    </tr>\n",
       "  </thead>\n",
       "  <tbody>\n",
       "    <tr>\n",
       "      <th>0</th>\n",
       "      <td>ATLANTIC</td>\n",
       "      <td>ABSECON CITY</td>\n",
       "      <td>2008-03-04</td>\n",
       "      <td>TU</td>\n",
       "      <td>15</td>\n",
       "      <td>US 30                                         ...</td>\n",
       "      <td>0</td>\n",
       "      <td>0</td>\n",
       "      <td>0</td>\n",
       "      <td>0</td>\n",
       "      <td>P</td>\n",
       "      <td>2</td>\n",
       "      <td>N</td>\n",
       "      <td>N</td>\n",
       "      <td>2008</td>\n",
       "      <td>3</td>\n",
       "    </tr>\n",
       "    <tr>\n",
       "      <th>1</th>\n",
       "      <td>ATLANTIC</td>\n",
       "      <td>ABSECON CITY</td>\n",
       "      <td>2008-12-19</td>\n",
       "      <td>F</td>\n",
       "      <td>11</td>\n",
       "      <td>US 30                                         ...</td>\n",
       "      <td>0</td>\n",
       "      <td>0</td>\n",
       "      <td>0</td>\n",
       "      <td>0</td>\n",
       "      <td>P</td>\n",
       "      <td>2</td>\n",
       "      <td>N</td>\n",
       "      <td>N</td>\n",
       "      <td>2008</td>\n",
       "      <td>12</td>\n",
       "    </tr>\n",
       "    <tr>\n",
       "      <th>2</th>\n",
       "      <td>ATLANTIC</td>\n",
       "      <td>ABSECON CITY</td>\n",
       "      <td>2008-11-25</td>\n",
       "      <td>TU</td>\n",
       "      <td>3</td>\n",
       "      <td>AUSECON TRAIL STATE                           ...</td>\n",
       "      <td>0</td>\n",
       "      <td>0</td>\n",
       "      <td>0</td>\n",
       "      <td>0</td>\n",
       "      <td>P</td>\n",
       "      <td>2</td>\n",
       "      <td>N</td>\n",
       "      <td>N</td>\n",
       "      <td>2008</td>\n",
       "      <td>11</td>\n",
       "    </tr>\n",
       "    <tr>\n",
       "      <th>3</th>\n",
       "      <td>ATLANTIC</td>\n",
       "      <td>ABSECON CITY</td>\n",
       "      <td>2008-03-31</td>\n",
       "      <td>M</td>\n",
       "      <td>1</td>\n",
       "      <td>423 RT 130 NORTH                              ...</td>\n",
       "      <td>0</td>\n",
       "      <td>0</td>\n",
       "      <td>0</td>\n",
       "      <td>0</td>\n",
       "      <td>P</td>\n",
       "      <td>2</td>\n",
       "      <td>N</td>\n",
       "      <td>N</td>\n",
       "      <td>2008</td>\n",
       "      <td>3</td>\n",
       "    </tr>\n",
       "    <tr>\n",
       "      <th>4</th>\n",
       "      <td>ATLANTIC</td>\n",
       "      <td>ABSECON CITY</td>\n",
       "      <td>2008-01-25</td>\n",
       "      <td>F</td>\n",
       "      <td>9</td>\n",
       "      <td>ATLANTIC COUNTY 685                           ...</td>\n",
       "      <td>0</td>\n",
       "      <td>1</td>\n",
       "      <td>0</td>\n",
       "      <td>0</td>\n",
       "      <td>I</td>\n",
       "      <td>2</td>\n",
       "      <td>N</td>\n",
       "      <td>N</td>\n",
       "      <td>2008</td>\n",
       "      <td>1</td>\n",
       "    </tr>\n",
       "    <tr>\n",
       "      <th>...</th>\n",
       "      <td>...</td>\n",
       "      <td>...</td>\n",
       "      <td>...</td>\n",
       "      <td>...</td>\n",
       "      <td>...</td>\n",
       "      <td>...</td>\n",
       "      <td>...</td>\n",
       "      <td>...</td>\n",
       "      <td>...</td>\n",
       "      <td>...</td>\n",
       "      <td>...</td>\n",
       "      <td>...</td>\n",
       "      <td>...</td>\n",
       "      <td>...</td>\n",
       "      <td>...</td>\n",
       "      <td>...</td>\n",
       "    </tr>\n",
       "    <tr>\n",
       "      <th>1048570</th>\n",
       "      <td>MIDDLESEX</td>\n",
       "      <td>WOODBRIDGE TWP</td>\n",
       "      <td>2011-07-21</td>\n",
       "      <td>TH</td>\n",
       "      <td>16</td>\n",
       "      <td>US 9                                          ...</td>\n",
       "      <td>0</td>\n",
       "      <td>0</td>\n",
       "      <td>0</td>\n",
       "      <td>0</td>\n",
       "      <td>P</td>\n",
       "      <td>1</td>\n",
       "      <td>N</td>\n",
       "      <td>N</td>\n",
       "      <td>2011</td>\n",
       "      <td>7</td>\n",
       "    </tr>\n",
       "    <tr>\n",
       "      <th>1048571</th>\n",
       "      <td>MIDDLESEX</td>\n",
       "      <td>WOODBRIDGE TWP</td>\n",
       "      <td>2011-07-21</td>\n",
       "      <td>TH</td>\n",
       "      <td>17</td>\n",
       "      <td>US 9                                          ...</td>\n",
       "      <td>0</td>\n",
       "      <td>0</td>\n",
       "      <td>0</td>\n",
       "      <td>0</td>\n",
       "      <td>P</td>\n",
       "      <td>2</td>\n",
       "      <td>N</td>\n",
       "      <td>N</td>\n",
       "      <td>2011</td>\n",
       "      <td>7</td>\n",
       "    </tr>\n",
       "    <tr>\n",
       "      <th>1048572</th>\n",
       "      <td>MIDDLESEX</td>\n",
       "      <td>WOODBRIDGE TWP</td>\n",
       "      <td>2011-07-21</td>\n",
       "      <td>TH</td>\n",
       "      <td>18</td>\n",
       "      <td>ROUTE 514                                     ...</td>\n",
       "      <td>0</td>\n",
       "      <td>0</td>\n",
       "      <td>0</td>\n",
       "      <td>0</td>\n",
       "      <td>P</td>\n",
       "      <td>2</td>\n",
       "      <td>N</td>\n",
       "      <td>N</td>\n",
       "      <td>2011</td>\n",
       "      <td>7</td>\n",
       "    </tr>\n",
       "    <tr>\n",
       "      <th>1048573</th>\n",
       "      <td>MIDDLESEX</td>\n",
       "      <td>WOODBRIDGE TWP</td>\n",
       "      <td>2011-07-22</td>\n",
       "      <td>F</td>\n",
       "      <td>7</td>\n",
       "      <td>535 AMBOY AVE                                 ...</td>\n",
       "      <td>0</td>\n",
       "      <td>0</td>\n",
       "      <td>0</td>\n",
       "      <td>0</td>\n",
       "      <td>P</td>\n",
       "      <td>2</td>\n",
       "      <td>N</td>\n",
       "      <td>N</td>\n",
       "      <td>2011</td>\n",
       "      <td>7</td>\n",
       "    </tr>\n",
       "    <tr>\n",
       "      <th>1048574</th>\n",
       "      <td>MIDDLESEX</td>\n",
       "      <td>WOODBRIDGE TWP</td>\n",
       "      <td>2011-07-22</td>\n",
       "      <td>F</td>\n",
       "      <td>10</td>\n",
       "      <td>378 AMBOY AVE                                 ...</td>\n",
       "      <td>0</td>\n",
       "      <td>0</td>\n",
       "      <td>0</td>\n",
       "      <td>0</td>\n",
       "      <td>P</td>\n",
       "      <td>2</td>\n",
       "      <td>N</td>\n",
       "      <td>N</td>\n",
       "      <td>2011</td>\n",
       "      <td>7</td>\n",
       "    </tr>\n",
       "  </tbody>\n",
       "</table>\n",
       "<p>1048575 rows × 16 columns</p>\n",
       "</div>"
      ],
      "text/plain": [
       "        County Name         Municipality Name Crash Date Crash Day Of Week  \\\n",
       "0          ATLANTIC  ABSECON CITY             2008-03-04                TU   \n",
       "1          ATLANTIC  ABSECON CITY             2008-12-19                 F   \n",
       "2          ATLANTIC  ABSECON CITY             2008-11-25                TU   \n",
       "3          ATLANTIC  ABSECON CITY             2008-03-31                 M   \n",
       "4          ATLANTIC  ABSECON CITY             2008-01-25                 F   \n",
       "...             ...                       ...        ...               ...   \n",
       "1048570   MIDDLESEX  WOODBRIDGE TWP           2011-07-21                TH   \n",
       "1048571   MIDDLESEX  WOODBRIDGE TWP           2011-07-21                TH   \n",
       "1048572   MIDDLESEX  WOODBRIDGE TWP           2011-07-21                TH   \n",
       "1048573   MIDDLESEX  WOODBRIDGE TWP           2011-07-22                 F   \n",
       "1048574   MIDDLESEX  WOODBRIDGE TWP           2011-07-22                 F   \n",
       "\n",
       "        Crash Time                                     Crash Location  \\\n",
       "0               15  US 30                                         ...   \n",
       "1               11  US 30                                         ...   \n",
       "2                3  AUSECON TRAIL STATE                           ...   \n",
       "3                1  423 RT 130 NORTH                              ...   \n",
       "4                9  ATLANTIC COUNTY 685                           ...   \n",
       "...            ...                                                ...   \n",
       "1048570         16  US 9                                          ...   \n",
       "1048571         17  US 9                                          ...   \n",
       "1048572         18  ROUTE 514                                     ...   \n",
       "1048573          7  535 AMBOY AVE                                 ...   \n",
       "1048574         10  378 AMBOY AVE                                 ...   \n",
       "\n",
       "         Total Killed  Total Injured  Pedestrians Killed  Pedestrians Injured  \\\n",
       "0                   0              0                   0                    0   \n",
       "1                   0              0                   0                    0   \n",
       "2                   0              0                   0                    0   \n",
       "3                   0              0                   0                    0   \n",
       "4                   0              1                   0                    0   \n",
       "...               ...            ...                 ...                  ...   \n",
       "1048570             0              0                   0                    0   \n",
       "1048571             0              0                   0                    0   \n",
       "1048572             0              0                   0                    0   \n",
       "1048573             0              0                   0                    0   \n",
       "1048574             0              0                   0                    0   \n",
       "\n",
       "        Severity  Total Vehicles Involved Alcohol Involved  \\\n",
       "0              P                        2                N   \n",
       "1              P                        2                N   \n",
       "2              P                        2                N   \n",
       "3              P                        2                N   \n",
       "4              I                        2                N   \n",
       "...          ...                      ...              ...   \n",
       "1048570        P                        1                N   \n",
       "1048571        P                        2                N   \n",
       "1048572        P                        2                N   \n",
       "1048573        P                        2                N   \n",
       "1048574        P                        2                N   \n",
       "\n",
       "        Cell Phone In Use Flag  year  month  \n",
       "0                            N  2008      3  \n",
       "1                            N  2008     12  \n",
       "2                            N  2008     11  \n",
       "3                            N  2008      3  \n",
       "4                            N  2008      1  \n",
       "...                        ...   ...    ...  \n",
       "1048570                      N  2011      7  \n",
       "1048571                      N  2011      7  \n",
       "1048572                      N  2011      7  \n",
       "1048573                      N  2011      7  \n",
       "1048574                      N  2011      7  \n",
       "\n",
       "[1048575 rows x 16 columns]"
      ]
     },
     "execution_count": 37,
     "metadata": {},
     "output_type": "execute_result"
    }
   ],
   "source": [
    "accidents"
   ]
  },
  {
   "cell_type": "code",
   "execution_count": 38,
   "id": "72943329",
   "metadata": {},
   "outputs": [],
   "source": [
    "# save the above dataframes into a new csv\n",
    "\n",
    "accidents.to_csv('Accidents_in_New_Jersey.csv')"
   ]
  },
  {
   "cell_type": "markdown",
   "id": "90efcad0",
   "metadata": {},
   "source": [
    "## 6. Visualization\n",
    "\n",
    "\n",
    "### ① Let's find the total death in every county."
   ]
  },
  {
   "cell_type": "code",
   "execution_count": 39,
   "id": "7099328b",
   "metadata": {},
   "outputs": [
    {
     "data": {
      "text/plain": [
       "Text(0, 0.5, 'County Name')"
      ]
     },
     "execution_count": 39,
     "metadata": {},
     "output_type": "execute_result"
    },
    {
     "data": {
      "image/png": "[encoded data removed]",
      "text/plain": [
       "<Figure size 1224x864 with 1 Axes>"
      ]
     },
     "metadata": {},
     "output_type": "display_data"
    }
   ],
   "source": [
    "sns.set_style('whitegrid')\n",
    "plt.figure(figsize=(17,12))\n",
    "\n",
    "sns.barplot(x = total_death['Total Killed'],\n",
    "            y = total_death['County Name'])\n",
    "\n",
    "plt.title('Total Death in every county', fontsize=27)\n",
    "plt.xlabel('Total Number of Death', fontsize=20)\n",
    "plt.ylabel('County Name', fontsize=20)"
   ]
  },
  {
   "cell_type": "markdown",
   "id": "2c8092ee",
   "metadata": {},
   "source": [
    "### ② similar with ①，Let's find the total injured in every county."
   ]
  },
  {
   "cell_type": "code",
   "execution_count": 39,
   "id": "a3138399",
   "metadata": {},
   "outputs": [
    {
     "data": {
      "text/html": [
       "<div>\n",
       "<style scoped>\n",
       "    .dataframe tbody tr th:only-of-type {\n",
       "        vertical-align: middle;\n",
       "    }\n",
       "\n",
       "    .dataframe tbody tr th {\n",
       "        vertical-align: top;\n",
       "    }\n",
       "\n",
       "    .dataframe thead th {\n",
       "        text-align: right;\n",
       "    }\n",
       "</style>\n",
       "<table border=\"1\" class=\"dataframe\">\n",
       "  <thead>\n",
       "    <tr style=\"text-align: right;\">\n",
       "      <th></th>\n",
       "      <th>County Name</th>\n",
       "      <th>Total Injured</th>\n",
       "    </tr>\n",
       "  </thead>\n",
       "  <tbody>\n",
       "    <tr>\n",
       "      <th>6</th>\n",
       "      <td>ESSEX</td>\n",
       "      <td>39627</td>\n",
       "    </tr>\n",
       "    <tr>\n",
       "      <th>11</th>\n",
       "      <td>MIDDLESEX</td>\n",
       "      <td>34548</td>\n",
       "    </tr>\n",
       "    <tr>\n",
       "      <th>1</th>\n",
       "      <td>BERGEN</td>\n",
       "      <td>31706</td>\n",
       "    </tr>\n",
       "    <tr>\n",
       "      <th>3</th>\n",
       "      <td>CAMDEN</td>\n",
       "      <td>24909</td>\n",
       "    </tr>\n",
       "    <tr>\n",
       "      <th>8</th>\n",
       "      <td>HUDSON</td>\n",
       "      <td>19842</td>\n",
       "    </tr>\n",
       "    <tr>\n",
       "      <th>19</th>\n",
       "      <td>UNION</td>\n",
       "      <td>19700</td>\n",
       "    </tr>\n",
       "    <tr>\n",
       "      <th>12</th>\n",
       "      <td>MONMOUTH</td>\n",
       "      <td>18713</td>\n",
       "    </tr>\n",
       "    <tr>\n",
       "      <th>15</th>\n",
       "      <td>PASSAIC</td>\n",
       "      <td>18293</td>\n",
       "    </tr>\n",
       "    <tr>\n",
       "      <th>14</th>\n",
       "      <td>OCEAN</td>\n",
       "      <td>17508</td>\n",
       "    </tr>\n",
       "    <tr>\n",
       "      <th>2</th>\n",
       "      <td>BURLINGTON</td>\n",
       "      <td>15285</td>\n",
       "    </tr>\n",
       "    <tr>\n",
       "      <th>10</th>\n",
       "      <td>MERCER</td>\n",
       "      <td>15190</td>\n",
       "    </tr>\n",
       "    <tr>\n",
       "      <th>0</th>\n",
       "      <td>ATLANTIC</td>\n",
       "      <td>13518</td>\n",
       "    </tr>\n",
       "    <tr>\n",
       "      <th>13</th>\n",
       "      <td>MORRIS</td>\n",
       "      <td>12705</td>\n",
       "    </tr>\n",
       "    <tr>\n",
       "      <th>7</th>\n",
       "      <td>GLOUCESTER</td>\n",
       "      <td>11442</td>\n",
       "    </tr>\n",
       "    <tr>\n",
       "      <th>17</th>\n",
       "      <td>SOMERSET</td>\n",
       "      <td>9643</td>\n",
       "    </tr>\n",
       "    <tr>\n",
       "      <th>5</th>\n",
       "      <td>CUMBERLAND</td>\n",
       "      <td>7296</td>\n",
       "    </tr>\n",
       "    <tr>\n",
       "      <th>4</th>\n",
       "      <td>CAPE MAY</td>\n",
       "      <td>4206</td>\n",
       "    </tr>\n",
       "    <tr>\n",
       "      <th>9</th>\n",
       "      <td>HUNTERDON</td>\n",
       "      <td>3997</td>\n",
       "    </tr>\n",
       "    <tr>\n",
       "      <th>18</th>\n",
       "      <td>SUSSEX</td>\n",
       "      <td>3679</td>\n",
       "    </tr>\n",
       "    <tr>\n",
       "      <th>20</th>\n",
       "      <td>WARREN</td>\n",
       "      <td>3324</td>\n",
       "    </tr>\n",
       "    <tr>\n",
       "      <th>16</th>\n",
       "      <td>SALEM</td>\n",
       "      <td>1973</td>\n",
       "    </tr>\n",
       "  </tbody>\n",
       "</table>\n",
       "</div>"
      ],
      "text/plain": [
       "   County Name  Total Injured\n",
       "6        ESSEX          39627\n",
       "11   MIDDLESEX          34548\n",
       "1       BERGEN          31706\n",
       "3       CAMDEN          24909\n",
       "8       HUDSON          19842\n",
       "19       UNION          19700\n",
       "12    MONMOUTH          18713\n",
       "15     PASSAIC          18293\n",
       "14       OCEAN          17508\n",
       "2   BURLINGTON          15285\n",
       "10      MERCER          15190\n",
       "0     ATLANTIC          13518\n",
       "13      MORRIS          12705\n",
       "7   GLOUCESTER          11442\n",
       "17    SOMERSET           9643\n",
       "5   CUMBERLAND           7296\n",
       "4     CAPE MAY           4206\n",
       "9    HUNTERDON           3997\n",
       "18      SUSSEX           3679\n",
       "20      WARREN           3324\n",
       "16       SALEM           1973"
      ]
     },
     "execution_count": 39,
     "metadata": {},
     "output_type": "execute_result"
    }
   ],
   "source": [
    "total_injured = county_level_accidents[['County Name',\n",
    "                                        'Total Injured']].sort_values(by='Total Injured',\n",
    "                                                                      ascending=False)\n",
    "total_injured"
   ]
  },
  {
   "cell_type": "code",
   "execution_count": 40,
   "id": "b553dde9",
   "metadata": {},
   "outputs": [
    {
     "data": {
      "text/plain": [
       "Text(0, 0.5, 'County Name')"
      ]
     },
     "execution_count": 40,
     "metadata": {},
     "output_type": "execute_result"
    },
    {
     "data": {
      "image/png": "[encoded data removed]",
      "text/plain": [
       "<Figure size 1224x864 with 1 Axes>"
      ]
     },
     "metadata": {},
     "output_type": "display_data"
    }
   ],
   "source": [
    "sns.set_style('whitegrid')\n",
    "plt.figure(figsize=(17,12))\n",
    "\n",
    "sns.barplot(x = total_injured['Total Injured'],\n",
    "            y = total_injured['County Name'])\n",
    "\n",
    "plt.title('Total Injured in every county', fontsize=27)\n",
    "plt.xlabel('Total Number of Injury', fontsize=20)\n",
    "plt.ylabel('County Name', fontsize=20)"
   ]
  },
  {
   "cell_type": "markdown",
   "id": "fb48f4b4",
   "metadata": {},
   "source": [
    "### ③ Let's use scatter plot to take a look at the relationships between Total Killed and Pedestrians Killed in each county."
   ]
  },
  {
   "cell_type": "code",
   "execution_count": 42,
   "id": "f0b1dbf2",
   "metadata": {},
   "outputs": [
    {
     "data": {
      "text/plain": [
       "<seaborn.axisgrid.FacetGrid at 0x26793843f10>"
      ]
     },
     "execution_count": 42,
     "metadata": {},
     "output_type": "execute_result"
    },
    {
     "data": {
      "image/png": "[encoded data removed]",
      "text/plain": [
       "<Figure size 360x360 with 1 Axes>"
      ]
     },
     "metadata": {},
     "output_type": "display_data"
    }
   ],
   "source": [
    "sns.lmplot(x='Total Killed',\n",
    "           y='Pedestrians Killed',\n",
    "           data=county_level_accidents)"
   ]
  },
  {
   "cell_type": "code",
   "execution_count": 43,
   "id": "5aa91138",
   "metadata": {},
   "outputs": [
    {
     "data": {
      "text/plain": [
       "<seaborn.axisgrid.JointGrid at 0x26793f18460>"
      ]
     },
     "execution_count": 43,
     "metadata": {},
     "output_type": "execute_result"
    },
    {
     "data": {
      "image/png": "[encoded data removed]",
      "text/plain": [
       "<Figure size 432x432 with 3 Axes>"
      ]
     },
     "metadata": {},
     "output_type": "display_data"
    }
   ],
   "source": [
    "sns.jointplot(x='Total Killed',\n",
    "              y='Pedestrians Killed',\n",
    "              data=county_level_accidents,\n",
    "              kind='reg',\n",
    "              joint_kws={'color':'orange'})"
   ]
  },
  {
   "cell_type": "markdown",
   "id": "57f583a8",
   "metadata": {},
   "source": [
    "### ④ similar with ③，Let's use scatter plot to take a look at the relationships between total injured and Pedestrians Injured."
   ]
  },
  {
   "cell_type": "code",
   "execution_count": 44,
   "id": "54eccc8e",
   "metadata": {},
   "outputs": [
    {
     "data": {
      "text/plain": [
       "<seaborn.axisgrid.FacetGrid at 0x26794042a30>"
      ]
     },
     "execution_count": 44,
     "metadata": {},
     "output_type": "execute_result"
    },
    {
     "data": {
      "image/png": "[encoded data removed]",
      "text/plain": [
       "<Figure size 360x360 with 1 Axes>"
      ]
     },
     "metadata": {},
     "output_type": "display_data"
    }
   ],
   "source": [
    "sns.lmplot(x='Total Injured',\n",
    "           y='Pedestrians Injured',\n",
    "           data=county_level_accidents)"
   ]
  },
  {
   "cell_type": "code",
   "execution_count": 45,
   "id": "226e0a49",
   "metadata": {},
   "outputs": [
    {
     "data": {
      "text/plain": [
       "<seaborn.axisgrid.JointGrid at 0x26794206bb0>"
      ]
     },
     "execution_count": 45,
     "metadata": {},
     "output_type": "execute_result"
    },
    {
     "data": {
      "image/png": "[encoded data removed]",
      "text/plain": [
       "<Figure size 432x432 with 3 Axes>"
      ]
     },
     "metadata": {},
     "output_type": "display_data"
    }
   ],
   "source": [
    "sns.jointplot(x='Total Injured',\n",
    "              y='Pedestrians Injured',\n",
    "              data=county_level_accidents,\n",
    "              kind='reg',\n",
    "              joint_kws={'color':'indigo'})"
   ]
  },
  {
   "cell_type": "markdown",
   "id": "e2df488b",
   "metadata": {},
   "source": [
    "### ⑤ Total Vehicles Involved"
   ]
  },
  {
   "cell_type": "code",
   "execution_count": 46,
   "id": "eb02e01d",
   "metadata": {},
   "outputs": [
    {
     "data": {
      "text/html": [
       "<div>\n",
       "<style scoped>\n",
       "    .dataframe tbody tr th:only-of-type {\n",
       "        vertical-align: middle;\n",
       "    }\n",
       "\n",
       "    .dataframe tbody tr th {\n",
       "        vertical-align: top;\n",
       "    }\n",
       "\n",
       "    .dataframe thead th {\n",
       "        text-align: right;\n",
       "    }\n",
       "</style>\n",
       "<table border=\"1\" class=\"dataframe\">\n",
       "  <thead>\n",
       "    <tr style=\"text-align: right;\">\n",
       "      <th></th>\n",
       "      <th>County Name</th>\n",
       "      <th>Total Vehicles Involved</th>\n",
       "    </tr>\n",
       "  </thead>\n",
       "  <tbody>\n",
       "    <tr>\n",
       "      <th>11</th>\n",
       "      <td>MIDDLESEX</td>\n",
       "      <td>220625</td>\n",
       "    </tr>\n",
       "    <tr>\n",
       "      <th>6</th>\n",
       "      <td>ESSEX</td>\n",
       "      <td>216820</td>\n",
       "    </tr>\n",
       "    <tr>\n",
       "      <th>1</th>\n",
       "      <td>BERGEN</td>\n",
       "      <td>215278</td>\n",
       "    </tr>\n",
       "    <tr>\n",
       "      <th>8</th>\n",
       "      <td>HUDSON</td>\n",
       "      <td>154819</td>\n",
       "    </tr>\n",
       "    <tr>\n",
       "      <th>3</th>\n",
       "      <td>CAMDEN</td>\n",
       "      <td>122872</td>\n",
       "    </tr>\n",
       "    <tr>\n",
       "      <th>12</th>\n",
       "      <td>MONMOUTH</td>\n",
       "      <td>119327</td>\n",
       "    </tr>\n",
       "    <tr>\n",
       "      <th>19</th>\n",
       "      <td>UNION</td>\n",
       "      <td>114766</td>\n",
       "    </tr>\n",
       "    <tr>\n",
       "      <th>15</th>\n",
       "      <td>PASSAIC</td>\n",
       "      <td>107298</td>\n",
       "    </tr>\n",
       "    <tr>\n",
       "      <th>10</th>\n",
       "      <td>MERCER</td>\n",
       "      <td>103554</td>\n",
       "    </tr>\n",
       "    <tr>\n",
       "      <th>14</th>\n",
       "      <td>OCEAN</td>\n",
       "      <td>98809</td>\n",
       "    </tr>\n",
       "    <tr>\n",
       "      <th>13</th>\n",
       "      <td>MORRIS</td>\n",
       "      <td>89798</td>\n",
       "    </tr>\n",
       "    <tr>\n",
       "      <th>2</th>\n",
       "      <td>BURLINGTON</td>\n",
       "      <td>81956</td>\n",
       "    </tr>\n",
       "    <tr>\n",
       "      <th>17</th>\n",
       "      <td>SOMERSET</td>\n",
       "      <td>66864</td>\n",
       "    </tr>\n",
       "    <tr>\n",
       "      <th>0</th>\n",
       "      <td>ATLANTIC</td>\n",
       "      <td>64147</td>\n",
       "    </tr>\n",
       "    <tr>\n",
       "      <th>7</th>\n",
       "      <td>GLOUCESTER</td>\n",
       "      <td>57627</td>\n",
       "    </tr>\n",
       "    <tr>\n",
       "      <th>5</th>\n",
       "      <td>CUMBERLAND</td>\n",
       "      <td>33571</td>\n",
       "    </tr>\n",
       "    <tr>\n",
       "      <th>9</th>\n",
       "      <td>HUNTERDON</td>\n",
       "      <td>27295</td>\n",
       "    </tr>\n",
       "    <tr>\n",
       "      <th>4</th>\n",
       "      <td>CAPE MAY</td>\n",
       "      <td>23761</td>\n",
       "    </tr>\n",
       "    <tr>\n",
       "      <th>18</th>\n",
       "      <td>SUSSEX</td>\n",
       "      <td>20406</td>\n",
       "    </tr>\n",
       "    <tr>\n",
       "      <th>20</th>\n",
       "      <td>WARREN</td>\n",
       "      <td>18607</td>\n",
       "    </tr>\n",
       "    <tr>\n",
       "      <th>16</th>\n",
       "      <td>SALEM</td>\n",
       "      <td>8924</td>\n",
       "    </tr>\n",
       "  </tbody>\n",
       "</table>\n",
       "</div>"
      ],
      "text/plain": [
       "   County Name  Total Vehicles Involved\n",
       "11   MIDDLESEX                   220625\n",
       "6        ESSEX                   216820\n",
       "1       BERGEN                   215278\n",
       "8       HUDSON                   154819\n",
       "3       CAMDEN                   122872\n",
       "12    MONMOUTH                   119327\n",
       "19       UNION                   114766\n",
       "15     PASSAIC                   107298\n",
       "10      MERCER                   103554\n",
       "14       OCEAN                    98809\n",
       "13      MORRIS                    89798\n",
       "2   BURLINGTON                    81956\n",
       "17    SOMERSET                    66864\n",
       "0     ATLANTIC                    64147\n",
       "7   GLOUCESTER                    57627\n",
       "5   CUMBERLAND                    33571\n",
       "9    HUNTERDON                    27295\n",
       "4     CAPE MAY                    23761\n",
       "18      SUSSEX                    20406\n",
       "20      WARREN                    18607\n",
       "16       SALEM                     8924"
      ]
     },
     "execution_count": 46,
     "metadata": {},
     "output_type": "execute_result"
    }
   ],
   "source": [
    "Total_Vehicles_Involved = county_level_accidents[['County Name',\n",
    "                                                  'Total Vehicles Involved']].sort_values(by='Total Vehicles Involved',\n",
    "                                                                                          ascending=False)\n",
    "Total_Vehicles_Involved"
   ]
  },
  {
   "cell_type": "code",
   "execution_count": 47,
   "id": "8a82bbad",
   "metadata": {},
   "outputs": [
    {
     "data": {
      "text/plain": [
       "Text(0, 0.5, 'County Name')"
      ]
     },
     "execution_count": 47,
     "metadata": {},
     "output_type": "execute_result"
    },
    {
     "data": {
      "image/png": "[encoded data removed]",
      "text/plain": [
       "<Figure size 1224x864 with 1 Axes>"
      ]
     },
     "metadata": {},
     "output_type": "display_data"
    }
   ],
   "source": [
    "sns.set_style('whitegrid')\n",
    "plt.figure(figsize=(17,12))\n",
    "\n",
    "sns.barplot(x = Total_Vehicles_Involved['Total Vehicles Involved'],\n",
    "            y = Total_Vehicles_Involved['County Name'])\n",
    "\n",
    "plt.title('Total Vehicles Involved in every county', fontsize=27)\n",
    "plt.xlabel('Total Number of Vehicles Involved', fontsize=20)\n",
    "plt.ylabel('County Name', fontsize=20)"
   ]
  },
  {
   "cell_type": "code",
   "execution_count": null,
   "id": "e39e716a",
   "metadata": {},
   "outputs": [],
   "source": []
  },
  {
   "cell_type": "markdown",
   "id": "835db91c",
   "metadata": {},
   "source": [
    "#### ⑥ Look at some figures related to time."
   ]
  },
  {
   "cell_type": "code",
   "execution_count": 48,
   "id": "12470a68",
   "metadata": {
    "scrolled": false
   },
   "outputs": [
    {
     "data": {
      "text/html": [
       "<div>\n",
       "<style scoped>\n",
       "    .dataframe tbody tr th:only-of-type {\n",
       "        vertical-align: middle;\n",
       "    }\n",
       "\n",
       "    .dataframe tbody tr th {\n",
       "        vertical-align: top;\n",
       "    }\n",
       "\n",
       "    .dataframe thead th {\n",
       "        text-align: right;\n",
       "    }\n",
       "</style>\n",
       "<table border=\"1\" class=\"dataframe\">\n",
       "  <thead>\n",
       "    <tr style=\"text-align: right;\">\n",
       "      <th></th>\n",
       "      <th>County Name</th>\n",
       "      <th>Crash Date</th>\n",
       "      <th>Crash Day Of Week</th>\n",
       "      <th>Crash Time</th>\n",
       "      <th>year</th>\n",
       "      <th>month</th>\n",
       "    </tr>\n",
       "  </thead>\n",
       "  <tbody>\n",
       "    <tr>\n",
       "      <th>0</th>\n",
       "      <td>ATLANTIC</td>\n",
       "      <td>2008-03-04</td>\n",
       "      <td>TU</td>\n",
       "      <td>15</td>\n",
       "      <td>2008</td>\n",
       "      <td>3</td>\n",
       "    </tr>\n",
       "    <tr>\n",
       "      <th>1</th>\n",
       "      <td>ATLANTIC</td>\n",
       "      <td>2008-12-19</td>\n",
       "      <td>F</td>\n",
       "      <td>11</td>\n",
       "      <td>2008</td>\n",
       "      <td>12</td>\n",
       "    </tr>\n",
       "    <tr>\n",
       "      <th>2</th>\n",
       "      <td>ATLANTIC</td>\n",
       "      <td>2008-11-25</td>\n",
       "      <td>TU</td>\n",
       "      <td>3</td>\n",
       "      <td>2008</td>\n",
       "      <td>11</td>\n",
       "    </tr>\n",
       "    <tr>\n",
       "      <th>3</th>\n",
       "      <td>ATLANTIC</td>\n",
       "      <td>2008-03-31</td>\n",
       "      <td>M</td>\n",
       "      <td>1</td>\n",
       "      <td>2008</td>\n",
       "      <td>3</td>\n",
       "    </tr>\n",
       "    <tr>\n",
       "      <th>4</th>\n",
       "      <td>ATLANTIC</td>\n",
       "      <td>2008-01-25</td>\n",
       "      <td>F</td>\n",
       "      <td>9</td>\n",
       "      <td>2008</td>\n",
       "      <td>1</td>\n",
       "    </tr>\n",
       "    <tr>\n",
       "      <th>...</th>\n",
       "      <td>...</td>\n",
       "      <td>...</td>\n",
       "      <td>...</td>\n",
       "      <td>...</td>\n",
       "      <td>...</td>\n",
       "      <td>...</td>\n",
       "    </tr>\n",
       "    <tr>\n",
       "      <th>1048570</th>\n",
       "      <td>MIDDLESEX</td>\n",
       "      <td>2011-07-21</td>\n",
       "      <td>TH</td>\n",
       "      <td>16</td>\n",
       "      <td>2011</td>\n",
       "      <td>7</td>\n",
       "    </tr>\n",
       "    <tr>\n",
       "      <th>1048571</th>\n",
       "      <td>MIDDLESEX</td>\n",
       "      <td>2011-07-21</td>\n",
       "      <td>TH</td>\n",
       "      <td>17</td>\n",
       "      <td>2011</td>\n",
       "      <td>7</td>\n",
       "    </tr>\n",
       "    <tr>\n",
       "      <th>1048572</th>\n",
       "      <td>MIDDLESEX</td>\n",
       "      <td>2011-07-21</td>\n",
       "      <td>TH</td>\n",
       "      <td>18</td>\n",
       "      <td>2011</td>\n",
       "      <td>7</td>\n",
       "    </tr>\n",
       "    <tr>\n",
       "      <th>1048573</th>\n",
       "      <td>MIDDLESEX</td>\n",
       "      <td>2011-07-22</td>\n",
       "      <td>F</td>\n",
       "      <td>7</td>\n",
       "      <td>2011</td>\n",
       "      <td>7</td>\n",
       "    </tr>\n",
       "    <tr>\n",
       "      <th>1048574</th>\n",
       "      <td>MIDDLESEX</td>\n",
       "      <td>2011-07-22</td>\n",
       "      <td>F</td>\n",
       "      <td>10</td>\n",
       "      <td>2011</td>\n",
       "      <td>7</td>\n",
       "    </tr>\n",
       "  </tbody>\n",
       "</table>\n",
       "<p>1048575 rows × 6 columns</p>\n",
       "</div>"
      ],
      "text/plain": [
       "        County Name Crash Date Crash Day Of Week Crash Time  year  month\n",
       "0          ATLANTIC 2008-03-04                TU         15  2008      3\n",
       "1          ATLANTIC 2008-12-19                 F         11  2008     12\n",
       "2          ATLANTIC 2008-11-25                TU          3  2008     11\n",
       "3          ATLANTIC 2008-03-31                 M          1  2008      3\n",
       "4          ATLANTIC 2008-01-25                 F          9  2008      1\n",
       "...             ...        ...               ...        ...   ...    ...\n",
       "1048570   MIDDLESEX 2011-07-21                TH         16  2011      7\n",
       "1048571   MIDDLESEX 2011-07-21                TH         17  2011      7\n",
       "1048572   MIDDLESEX 2011-07-21                TH         18  2011      7\n",
       "1048573   MIDDLESEX 2011-07-22                 F          7  2011      7\n",
       "1048574   MIDDLESEX 2011-07-22                 F         10  2011      7\n",
       "\n",
       "[1048575 rows x 6 columns]"
      ]
     },
     "execution_count": 48,
     "metadata": {},
     "output_type": "execute_result"
    }
   ],
   "source": [
    "crash_date = accidents[['County Name',\n",
    "                        'Crash Date',\n",
    "                        'Crash Day Of Week',\n",
    "                        'Crash Time',\n",
    "                        'year',\n",
    "                        'month']]\n",
    "crash_date"
   ]
  },
  {
   "cell_type": "markdown",
   "id": "46087546",
   "metadata": {},
   "source": [
    "### Year"
   ]
  },
  {
   "cell_type": "code",
   "execution_count": 49,
   "id": "2dda12b5",
   "metadata": {},
   "outputs": [
    {
     "data": {
      "text/html": [
       "<div>\n",
       "<style scoped>\n",
       "    .dataframe tbody tr th:only-of-type {\n",
       "        vertical-align: middle;\n",
       "    }\n",
       "\n",
       "    .dataframe tbody tr th {\n",
       "        vertical-align: top;\n",
       "    }\n",
       "\n",
       "    .dataframe thead th {\n",
       "        text-align: right;\n",
       "    }\n",
       "</style>\n",
       "<table border=\"1\" class=\"dataframe\">\n",
       "  <thead>\n",
       "    <tr style=\"text-align: right;\">\n",
       "      <th></th>\n",
       "      <th>year</th>\n",
       "      <th>total_accidents</th>\n",
       "    </tr>\n",
       "  </thead>\n",
       "  <tbody>\n",
       "    <tr>\n",
       "      <th>0</th>\n",
       "      <td>2008</td>\n",
       "      <td>303013</td>\n",
       "    </tr>\n",
       "    <tr>\n",
       "      <th>2</th>\n",
       "      <td>2009</td>\n",
       "      <td>270729</td>\n",
       "    </tr>\n",
       "    <tr>\n",
       "      <th>1</th>\n",
       "      <td>2010</td>\n",
       "      <td>299575</td>\n",
       "    </tr>\n",
       "    <tr>\n",
       "      <th>3</th>\n",
       "      <td>2011</td>\n",
       "      <td>175258</td>\n",
       "    </tr>\n",
       "  </tbody>\n",
       "</table>\n",
       "</div>"
      ],
      "text/plain": [
       "   year  total_accidents\n",
       "0  2008           303013\n",
       "2  2009           270729\n",
       "1  2010           299575\n",
       "3  2011           175258"
      ]
     },
     "execution_count": 49,
     "metadata": {},
     "output_type": "execute_result"
    }
   ],
   "source": [
    "Year = pd.DataFrame(crash_date['year'].value_counts().reset_index())\n",
    "\n",
    "Year.columns = ['year','total_accidents']\n",
    "\n",
    "Year = Year.sort_values(by='year',\n",
    "                        ascending=True)\n",
    "\n",
    "Year"
   ]
  },
  {
   "cell_type": "code",
   "execution_count": 50,
   "id": "c1983320",
   "metadata": {},
   "outputs": [
    {
     "data": {
      "text/plain": [
       "Text(0, 0.5, 'Total Accidents')"
      ]
     },
     "execution_count": 50,
     "metadata": {},
     "output_type": "execute_result"
    },
    {
     "data": {
      "image/png": "[encoded data removed]",
      "text/plain": [
       "<Figure size 936x504 with 1 Axes>"
      ]
     },
     "metadata": {},
     "output_type": "display_data"
    }
   ],
   "source": [
    "sns.set_style('whitegrid')\n",
    "plt.figure(figsize=(13,7))\n",
    "\n",
    "sns.barplot(x='year',\n",
    "            y='total_accidents',\n",
    "            data=Year)\n",
    "\n",
    "plt.title('Accidents in Year (2008-2011)', fontsize=27)\n",
    "plt.xlabel('Years', fontsize=20)\n",
    "plt.ylabel('Total Accidents', fontsize=20)"
   ]
  },
  {
   "cell_type": "markdown",
   "id": "bdfd31be",
   "metadata": {},
   "source": [
    "## Month"
   ]
  },
  {
   "cell_type": "code",
   "execution_count": 51,
   "id": "049e68ca",
   "metadata": {},
   "outputs": [],
   "source": [
    "month_order = ['Jan', 'Feb','Mar','Apr','May','Jun','Jul','Aug','Sep','Oct','Nov','Dec']"
   ]
  },
  {
   "cell_type": "code",
   "execution_count": 52,
   "id": "c68c06cf",
   "metadata": {},
   "outputs": [
    {
     "data": {
      "text/html": [
       "<div>\n",
       "<style scoped>\n",
       "    .dataframe tbody tr th:only-of-type {\n",
       "        vertical-align: middle;\n",
       "    }\n",
       "\n",
       "    .dataframe tbody tr th {\n",
       "        vertical-align: top;\n",
       "    }\n",
       "\n",
       "    .dataframe thead th {\n",
       "        text-align: right;\n",
       "    }\n",
       "</style>\n",
       "<table border=\"1\" class=\"dataframe\">\n",
       "  <thead>\n",
       "    <tr style=\"text-align: right;\">\n",
       "      <th></th>\n",
       "      <th>month</th>\n",
       "      <th>accidents</th>\n",
       "    </tr>\n",
       "  </thead>\n",
       "  <tbody>\n",
       "    <tr>\n",
       "      <th>4</th>\n",
       "      <td>Jan</td>\n",
       "      <td>89148</td>\n",
       "    </tr>\n",
       "    <tr>\n",
       "      <th>8</th>\n",
       "      <td>Feb</td>\n",
       "      <td>82671</td>\n",
       "    </tr>\n",
       "    <tr>\n",
       "      <th>10</th>\n",
       "      <td>Mar</td>\n",
       "      <td>82041</td>\n",
       "    </tr>\n",
       "    <tr>\n",
       "      <th>7</th>\n",
       "      <td>Apr</td>\n",
       "      <td>82854</td>\n",
       "    </tr>\n",
       "    <tr>\n",
       "      <th>1</th>\n",
       "      <td>May</td>\n",
       "      <td>93419</td>\n",
       "    </tr>\n",
       "    <tr>\n",
       "      <th>3</th>\n",
       "      <td>Jun</td>\n",
       "      <td>91628</td>\n",
       "    </tr>\n",
       "    <tr>\n",
       "      <th>5</th>\n",
       "      <td>Jul</td>\n",
       "      <td>86398</td>\n",
       "    </tr>\n",
       "    <tr>\n",
       "      <th>9</th>\n",
       "      <td>Aug</td>\n",
       "      <td>82274</td>\n",
       "    </tr>\n",
       "    <tr>\n",
       "      <th>11</th>\n",
       "      <td>Sep</td>\n",
       "      <td>81982</td>\n",
       "    </tr>\n",
       "    <tr>\n",
       "      <th>2</th>\n",
       "      <td>Oct</td>\n",
       "      <td>91753</td>\n",
       "    </tr>\n",
       "    <tr>\n",
       "      <th>6</th>\n",
       "      <td>Nov</td>\n",
       "      <td>86002</td>\n",
       "    </tr>\n",
       "    <tr>\n",
       "      <th>0</th>\n",
       "      <td>Dec</td>\n",
       "      <td>98405</td>\n",
       "    </tr>\n",
       "  </tbody>\n",
       "</table>\n",
       "</div>"
      ],
      "text/plain": [
       "   month  accidents\n",
       "4    Jan      89148\n",
       "8    Feb      82671\n",
       "10   Mar      82041\n",
       "7    Apr      82854\n",
       "1    May      93419\n",
       "3    Jun      91628\n",
       "5    Jul      86398\n",
       "9    Aug      82274\n",
       "11   Sep      81982\n",
       "2    Oct      91753\n",
       "6    Nov      86002\n",
       "0    Dec      98405"
      ]
     },
     "execution_count": 52,
     "metadata": {},
     "output_type": "execute_result"
    }
   ],
   "source": [
    "month = pd.DataFrame(crash_date['month'].value_counts()).reset_index()\n",
    "\n",
    "\n",
    "month.columns = ['month','accidents']\n",
    "\n",
    "\n",
    "month = month.sort_values(by='month')\n",
    "\n",
    "\n",
    "month['month'].replace([1,2,3,4,5,6,7,8,9,10,11,12],\n",
    "                       ['Jan', 'Feb','Mar','Apr','May','Jun','Jul','Aug','Sep','Oct','Nov','Dec'],\n",
    "                       inplace=True)\n",
    "\n",
    "month"
   ]
  },
  {
   "cell_type": "code",
   "execution_count": 53,
   "id": "45382562",
   "metadata": {},
   "outputs": [
    {
     "data": {
      "text/plain": [
       "Text(0, 0.5, 'Total Accidents')"
      ]
     },
     "execution_count": 53,
     "metadata": {},
     "output_type": "execute_result"
    },
    {
     "data": {
      "image/png": "[encoded data removed]",
      "text/plain": [
       "<Figure size 1224x864 with 1 Axes>"
      ]
     },
     "metadata": {},
     "output_type": "display_data"
    }
   ],
   "source": [
    "sns.set_style('whitegrid')\n",
    "plt.figure(figsize=(17,12))\n",
    "\n",
    "sns.barplot(x='month',\n",
    "            y='accidents',\n",
    "            data=month,\n",
    "            order=month_order )\n",
    "\n",
    "plt.title('Accidents in month', fontsize=27)\n",
    "plt.xlabel('Months', fontsize=20)\n",
    "plt.ylabel('Total Accidents', fontsize=20)"
   ]
  },
  {
   "cell_type": "markdown",
   "id": "f9b2fb3a",
   "metadata": {},
   "source": [
    "## Day"
   ]
  },
  {
   "cell_type": "code",
   "execution_count": 54,
   "id": "6e385c91",
   "metadata": {},
   "outputs": [
    {
     "data": {
      "text/html": [
       "<div>\n",
       "<style scoped>\n",
       "    .dataframe tbody tr th:only-of-type {\n",
       "        vertical-align: middle;\n",
       "    }\n",
       "\n",
       "    .dataframe tbody tr th {\n",
       "        vertical-align: top;\n",
       "    }\n",
       "\n",
       "    .dataframe thead th {\n",
       "        text-align: right;\n",
       "    }\n",
       "</style>\n",
       "<table border=\"1\" class=\"dataframe\">\n",
       "  <thead>\n",
       "    <tr style=\"text-align: right;\">\n",
       "      <th></th>\n",
       "      <th>day</th>\n",
       "      <th>accidents</th>\n",
       "    </tr>\n",
       "  </thead>\n",
       "  <tbody>\n",
       "    <tr>\n",
       "      <th>0</th>\n",
       "      <td>Fri</td>\n",
       "      <td>175227</td>\n",
       "    </tr>\n",
       "    <tr>\n",
       "      <th>1</th>\n",
       "      <td>Thu</td>\n",
       "      <td>159228</td>\n",
       "    </tr>\n",
       "    <tr>\n",
       "      <th>2</th>\n",
       "      <td>Tue</td>\n",
       "      <td>156871</td>\n",
       "    </tr>\n",
       "    <tr>\n",
       "      <th>3</th>\n",
       "      <td>Wed</td>\n",
       "      <td>155955</td>\n",
       "    </tr>\n",
       "    <tr>\n",
       "      <th>4</th>\n",
       "      <td>Mon</td>\n",
       "      <td>146559</td>\n",
       "    </tr>\n",
       "    <tr>\n",
       "      <th>5</th>\n",
       "      <td>Sun</td>\n",
       "      <td>141825</td>\n",
       "    </tr>\n",
       "    <tr>\n",
       "      <th>6</th>\n",
       "      <td>Sat</td>\n",
       "      <td>112910</td>\n",
       "    </tr>\n",
       "  </tbody>\n",
       "</table>\n",
       "</div>"
      ],
      "text/plain": [
       "   day  accidents\n",
       "0  Fri     175227\n",
       "1  Thu     159228\n",
       "2  Tue     156871\n",
       "3  Wed     155955\n",
       "4  Mon     146559\n",
       "5  Sun     141825\n",
       "6  Sat     112910"
      ]
     },
     "execution_count": 54,
     "metadata": {},
     "output_type": "execute_result"
    }
   ],
   "source": [
    "day_order = ['Mon','Tue','Wed','Thu','Fri','Sat','Sun']\n",
    "\n",
    "Day = pd.DataFrame(crash_date['Crash Day Of Week'].value_counts().reset_index())\n",
    "\n",
    "Day.columns = ['day','accidents']\n",
    "\n",
    "Day['day'].replace(['F','TH','TU','W','M','SA','S'],\n",
    "                   ['Fri','Thu','Tue','Wed','Mon','Sun','Sat'],\n",
    "                   inplace = True)\n",
    "\n",
    "Day"
   ]
  },
  {
   "cell_type": "code",
   "execution_count": 55,
   "id": "0a9db7c9",
   "metadata": {},
   "outputs": [
    {
     "data": {
      "text/plain": [
       "Text(0, 0.5, 'Total Accidents')"
      ]
     },
     "execution_count": 55,
     "metadata": {},
     "output_type": "execute_result"
    },
    {
     "data": {
      "image/png": "[encoded data removed]",
      "text/plain": [
       "<Figure size 1224x864 with 1 Axes>"
      ]
     },
     "metadata": {},
     "output_type": "display_data"
    }
   ],
   "source": [
    "sns.set_style('whitegrid')\n",
    "plt.figure(figsize=(17,12))\n",
    "\n",
    "sns.barplot(x='day',\n",
    "            y='accidents',\n",
    "            data=Day,\n",
    "            order=day_order)\n",
    "\n",
    "plt.title('Accidents in Week', fontsize=27)\n",
    "plt.xlabel('Day', fontsize=20)\n",
    "plt.ylabel('Total Accidents', fontsize=20)"
   ]
  },
  {
   "cell_type": "markdown",
   "id": "20e34a5c",
   "metadata": {},
   "source": [
    "## Hour"
   ]
  },
  {
   "cell_type": "code",
   "execution_count": 56,
   "id": "162d1c00",
   "metadata": {},
   "outputs": [
    {
     "data": {
      "text/plain": [
       "array(['15', '11', '3', '1', '9', '16', '17', '14', '13', '7', '18', '8',\n",
       "       '12', '23', '19', '6', '10', '22', '4', '20', '21', '2', '5', '  ',\n",
       "       '0'], dtype=object)"
      ]
     },
     "execution_count": 56,
     "metadata": {},
     "output_type": "execute_result"
    }
   ],
   "source": [
    "crash_date['Crash Time'].unique()"
   ]
  },
  {
   "cell_type": "code",
   "execution_count": 57,
   "id": "debaf01b",
   "metadata": {},
   "outputs": [
    {
     "name": "stderr",
     "output_type": "stream",
     "text": [
      "D:\\A\\lib\\site-packages\\pandas\\core\\generic.py:6619: SettingWithCopyWarning: \n",
      "A value is trying to be set on a copy of a slice from a DataFrame\n",
      "\n",
      "See the caveats in the documentation: https://pandas.pydata.org/pandas-docs/stable/user_guide/indexing.html#returning-a-view-versus-a-copy\n",
      "  return self._update_inplace(result)\n"
     ]
    },
    {
     "data": {
      "text/plain": [
       "array(['15', '11', '3', '1', '9', '16', '17', '14', '13', '7', '18', '8',\n",
       "       '12', '23', '19', '6', '10', '22', '4', '20', '21', '2', '5', '0'],\n",
       "      dtype=object)"
      ]
     },
     "execution_count": 57,
     "metadata": {},
     "output_type": "execute_result"
    }
   ],
   "source": [
    "crash_date['Crash Time'].replace('  ', '0',\n",
    "                                 inplace=True)\n",
    "\n",
    "crash_date['Crash Time'].unique()"
   ]
  },
  {
   "cell_type": "code",
   "execution_count": 58,
   "id": "0df215bc",
   "metadata": {},
   "outputs": [
    {
     "name": "stderr",
     "output_type": "stream",
     "text": [
      "<ipython-input-58-c5a03b1e711b>:1: SettingWithCopyWarning: \n",
      "A value is trying to be set on a copy of a slice from a DataFrame.\n",
      "Try using .loc[row_indexer,col_indexer] = value instead\n",
      "\n",
      "See the caveats in the documentation: https://pandas.pydata.org/pandas-docs/stable/user_guide/indexing.html#returning-a-view-versus-a-copy\n",
      "  crash_date['Crash Time'] = crash_date['Crash Time'].astype(int)\n"
     ]
    }
   ],
   "source": [
    "crash_date['Crash Time'] = crash_date['Crash Time'].astype(int)"
   ]
  },
  {
   "cell_type": "code",
   "execution_count": 59,
   "id": "8e0aeb55",
   "metadata": {},
   "outputs": [
    {
     "data": {
      "text/html": [
       "<div>\n",
       "<style scoped>\n",
       "    .dataframe tbody tr th:only-of-type {\n",
       "        vertical-align: middle;\n",
       "    }\n",
       "\n",
       "    .dataframe tbody tr th {\n",
       "        vertical-align: top;\n",
       "    }\n",
       "\n",
       "    .dataframe thead th {\n",
       "        text-align: right;\n",
       "    }\n",
       "</style>\n",
       "<table border=\"1\" class=\"dataframe\">\n",
       "  <thead>\n",
       "    <tr style=\"text-align: right;\">\n",
       "      <th></th>\n",
       "      <th>Crash Time</th>\n",
       "      <th>accidents</th>\n",
       "    </tr>\n",
       "  </thead>\n",
       "  <tbody>\n",
       "    <tr>\n",
       "      <th>23</th>\n",
       "      <td>0</td>\n",
       "      <td>7917</td>\n",
       "    </tr>\n",
       "    <tr>\n",
       "      <th>18</th>\n",
       "      <td>1</td>\n",
       "      <td>16361</td>\n",
       "    </tr>\n",
       "    <tr>\n",
       "      <th>19</th>\n",
       "      <td>2</td>\n",
       "      <td>15917</td>\n",
       "    </tr>\n",
       "    <tr>\n",
       "      <th>20</th>\n",
       "      <td>3</td>\n",
       "      <td>13327</td>\n",
       "    </tr>\n",
       "    <tr>\n",
       "      <th>22</th>\n",
       "      <td>4</td>\n",
       "      <td>10596</td>\n",
       "    </tr>\n",
       "    <tr>\n",
       "      <th>21</th>\n",
       "      <td>5</td>\n",
       "      <td>12730</td>\n",
       "    </tr>\n",
       "    <tr>\n",
       "      <th>17</th>\n",
       "      <td>6</td>\n",
       "      <td>20217</td>\n",
       "    </tr>\n",
       "    <tr>\n",
       "      <th>12</th>\n",
       "      <td>7</td>\n",
       "      <td>46305</td>\n",
       "    </tr>\n",
       "    <tr>\n",
       "      <th>7</th>\n",
       "      <td>8</td>\n",
       "      <td>63076</td>\n",
       "    </tr>\n",
       "    <tr>\n",
       "      <th>9</th>\n",
       "      <td>9</td>\n",
       "      <td>51006</td>\n",
       "    </tr>\n",
       "    <tr>\n",
       "      <th>10</th>\n",
       "      <td>10</td>\n",
       "      <td>49233</td>\n",
       "    </tr>\n",
       "    <tr>\n",
       "      <th>8</th>\n",
       "      <td>11</td>\n",
       "      <td>56982</td>\n",
       "    </tr>\n",
       "    <tr>\n",
       "      <th>5</th>\n",
       "      <td>12</td>\n",
       "      <td>67622</td>\n",
       "    </tr>\n",
       "    <tr>\n",
       "      <th>4</th>\n",
       "      <td>13</td>\n",
       "      <td>68626</td>\n",
       "    </tr>\n",
       "    <tr>\n",
       "      <th>3</th>\n",
       "      <td>14</td>\n",
       "      <td>74167</td>\n",
       "    </tr>\n",
       "    <tr>\n",
       "      <th>1</th>\n",
       "      <td>15</td>\n",
       "      <td>82872</td>\n",
       "    </tr>\n",
       "    <tr>\n",
       "      <th>2</th>\n",
       "      <td>16</td>\n",
       "      <td>80228</td>\n",
       "    </tr>\n",
       "    <tr>\n",
       "      <th>0</th>\n",
       "      <td>17</td>\n",
       "      <td>84307</td>\n",
       "    </tr>\n",
       "    <tr>\n",
       "      <th>6</th>\n",
       "      <td>18</td>\n",
       "      <td>66138</td>\n",
       "    </tr>\n",
       "    <tr>\n",
       "      <th>11</th>\n",
       "      <td>19</td>\n",
       "      <td>47005</td>\n",
       "    </tr>\n",
       "    <tr>\n",
       "      <th>13</th>\n",
       "      <td>20</td>\n",
       "      <td>35931</td>\n",
       "    </tr>\n",
       "    <tr>\n",
       "      <th>14</th>\n",
       "      <td>21</td>\n",
       "      <td>31768</td>\n",
       "    </tr>\n",
       "    <tr>\n",
       "      <th>15</th>\n",
       "      <td>22</td>\n",
       "      <td>25945</td>\n",
       "    </tr>\n",
       "    <tr>\n",
       "      <th>16</th>\n",
       "      <td>23</td>\n",
       "      <td>20299</td>\n",
       "    </tr>\n",
       "  </tbody>\n",
       "</table>\n",
       "</div>"
      ],
      "text/plain": [
       "    Crash Time  accidents\n",
       "23           0       7917\n",
       "18           1      16361\n",
       "19           2      15917\n",
       "20           3      13327\n",
       "22           4      10596\n",
       "21           5      12730\n",
       "17           6      20217\n",
       "12           7      46305\n",
       "7            8      63076\n",
       "9            9      51006\n",
       "10          10      49233\n",
       "8           11      56982\n",
       "5           12      67622\n",
       "4           13      68626\n",
       "3           14      74167\n",
       "1           15      82872\n",
       "2           16      80228\n",
       "0           17      84307\n",
       "6           18      66138\n",
       "11          19      47005\n",
       "13          20      35931\n",
       "14          21      31768\n",
       "15          22      25945\n",
       "16          23      20299"
      ]
     },
     "execution_count": 59,
     "metadata": {},
     "output_type": "execute_result"
    }
   ],
   "source": [
    "Hour = pd.DataFrame(crash_date['Crash Time'].value_counts().reset_index())\n",
    "\n",
    "Hour.columns = ['Crash Time','accidents']\n",
    "\n",
    "Hour = Hour.sort_values(by='Crash Time',\n",
    "                        ascending=True)\n",
    "Hour"
   ]
  },
  {
   "cell_type": "code",
   "execution_count": 60,
   "id": "78d30936",
   "metadata": {},
   "outputs": [
    {
     "data": {
      "text/plain": [
       "Text(0, 0.5, 'Total Accidents')"
      ]
     },
     "execution_count": 60,
     "metadata": {},
     "output_type": "execute_result"
    },
    {
     "data": {
      "image/png": "[encoded data removed]",
      "text/plain": [
       "<Figure size 1224x864 with 1 Axes>"
      ]
     },
     "metadata": {},
     "output_type": "display_data"
    }
   ],
   "source": [
    "sns.set_style('whitegrid')\n",
    "plt.figure(figsize=(17,12))\n",
    "\n",
    "sns.pointplot(x='Crash Time',\n",
    "              y='accidents',\n",
    "              data=Hour)\n",
    "\n",
    "plt.title('Accidents in Hours', fontsize=27)\n",
    "plt.xlabel('Time', fontsize=20)\n",
    "plt.ylabel('Total Accidents', fontsize=20)"
   ]
  },
  {
   "cell_type": "code",
   "execution_count": null,
   "id": "4927ab21",
   "metadata": {},
   "outputs": [],
   "source": []
  }
 ],
 "metadata": {
  "kernelspec": {
   "display_name": "Python 3",
   "language": "python",
   "name": "python3"
  },
  "language_info": {
   "codemirror_mode": {
    "name": "ipython",
    "version": 3
   },
   "file_extension": ".py",
   "mimetype": "text/x-python",
   "name": "python",
   "nbconvert_exporter": "python",
   "pygments_lexer": "ipython3",
   "version": "3.8.8"
  }
 },
 "nbformat": 4,
 "nbformat_minor": 5
}
